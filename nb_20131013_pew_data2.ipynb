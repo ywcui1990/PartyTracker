{
 "metadata": {
  "name": "nb_20131013_pew_data2"
 }, 
 "nbformat": 2, 
 "worksheets": [
  {
   "cells": [
    {
     "cell_type": "markdown", 
     "source": [
      "# Analyze the Pew.txt file"
     ]
    }, 
    {
     "cell_type": "markdown", 
     "source": [
      "This time using separate function to read in the file."
     ]
    }, 
    {
     "cell_type": "code", 
     "collapsed": false, 
     "input": [
      "import pandas as pd", 
      "%load_ext autoreload", 
      "%autoreload 2", 
      "from pew_data_analysis import *", 
      "pd.set_printoptions(max_columns=0)"
     ], 
     "language": "python", 
     "outputs": [], 
     "prompt_number": 18
    }, 
    {
     "cell_type": "code", 
     "collapsed": false, 
     "input": [
      "%time pew = read_pew_txt('Pew.txt','data/Merge_Codebook.csv','data/US_FIPS_Codes.csv')"
     ], 
     "language": "python", 
     "outputs": [
      {
       "output_type": "stream", 
       "stream": "stdout", 
       "text": [
        "CPU times: user 21.17 s, sys: 3.20 s, total: 24.37 s", 
        "Wall time: 24.62 s"
       ]
      }
     ], 
     "prompt_number": 19
    }, 
    {
     "cell_type": "code", 
     "collapsed": false, 
     "input": [
      "pew.describe()"
     ], 
     "language": "python", 
     "outputs": [
      {
       "html": [
        "<div style=\"max-height:1000px;max-width:1500px;overflow:auto;\">", 
        "<table border=\"1\" class=\"dataframe\">", 
        "  <thead>", 
        "    <tr style=\"text-align: right;\">", 
        "      <th></th>", 
        "      <th>id</th>", 
        "      <th>rid</th>", 
        "      <th>weight</th>", 
        "      <th>year</th>", 
        "      <th>date</th>", 
        "      <th>age</th>", 
        "      <th>fipsst</th>", 
        "      <th>fipsco</th>", 
        "      <th>density</th>", 
        "      <th>regvoter</th>", 
        "    </tr>", 
        "  </thead>", 
        "  <tbody>", 
        "    <tr>", 
        "      <th>count</th>", 
        "      <td> 442262.000000</td>", 
        "      <td>  389963.000000</td>", 
        "      <td> 441892.000000</td>", 
        "      <td> 442262.000000</td>", 
        "      <td>   382454.000000</td>", 
        "      <td> 442262.000000</td>", 
        "      <td> 428020.000000</td>", 
        "      <td> 319442.000000</td>", 
        "      <td> 130895.000000</td>", 
        "      <td> 305512</td>", 
        "    </tr>", 
        "    <tr>", 
        "      <th>mean</th>", 
        "      <td> 221131.500000</td>", 
        "      <td>   54188.247245</td>", 
        "      <td>      0.996082</td>", 
        "      <td>   2002.931262</td>", 
        "      <td>   408640.208807</td>", 
        "      <td>     48.735786</td>", 
        "      <td>     28.603262</td>", 
        "      <td>     82.707014</td>", 
        "      <td>      2.816555</td>", 
        "      <td>      1</td>", 
        "    </tr>", 
        "    <tr>", 
        "      <th>std</th>", 
        "      <td> 255250.217899</td>", 
        "      <td>  153832.541757</td>", 
        "      <td>      0.500715</td>", 
        "      <td>      6.359258</td>", 
        "      <td>  2588051.467483</td>", 
        "      <td>     18.667399</td>", 
        "      <td>     15.723518</td>", 
        "      <td>     97.583575</td>", 
        "      <td>      1.393472</td>", 
        "      <td>      0</td>", 
        "    </tr>", 
        "    <tr>", 
        "      <th>min</th>", 
        "      <td>      1.000000</td>", 
        "      <td>       1.000000</td>", 
        "      <td>      0.100000</td>", 
        "      <td>   1990.000000</td>", 
        "      <td>        0.000000</td>", 
        "      <td>      0.000000</td>", 
        "      <td>      1.000000</td>", 
        "      <td>      0.000000</td>", 
        "      <td>      1.000000</td>", 
        "      <td>      1</td>", 
        "    </tr>", 
        "    <tr>", 
        "      <th>25%</th>", 
        "      <td> 110566.250000</td>", 
        "      <td>    1147.000000</td>", 
        "      <td>      0.649572</td>", 
        "      <td>   1998.000000</td>", 
        "      <td>    40397.000000</td>", 
        "      <td>     34.000000</td>", 
        "      <td>     13.000000</td>", 
        "      <td>     25.000000</td>", 
        "      <td>      2.000000</td>", 
        "      <td>      1</td>", 
        "    </tr>", 
        "    <tr>", 
        "      <th>50%</th>", 
        "      <td> 221131.500000</td>", 
        "      <td>    4409.000000</td>", 
        "      <td>      0.881001</td>", 
        "      <td>   2004.000000</td>", 
        "      <td>    70212.000000</td>", 
        "      <td>     48.000000</td>", 
        "      <td>     29.000000</td>", 
        "      <td>     61.000000</td>", 
        "      <td>      3.000000</td>", 
        "      <td>      1</td>", 
        "    </tr>", 
        "    <tr>", 
        "      <th>75%</th>", 
        "      <td> 331696.750000</td>", 
        "      <td>  100083.000000</td>", 
        "      <td>      1.204123</td>", 
        "      <td>   2008.000000</td>", 
        "      <td>   100301.000000</td>", 
        "      <td>     62.000000</td>", 
        "      <td>     42.000000</td>", 
        "      <td>    107.000000</td>", 
        "      <td>      4.000000</td>", 
        "      <td>      1</td>", 
        "    </tr>", 
        "    <tr>", 
        "      <th>max</th>", 
        "      <td> 442262.000000</td>", 
        "      <td> 2020955.000000</td>", 
        "      <td>      5.824109</td>", 
        "      <td>   2013.000000</td>", 
        "      <td> 20010528.000000</td>", 
        "      <td>     99.000000</td>", 
        "      <td>     78.000000</td>", 
        "      <td>    840.000000</td>", 
        "      <td>      9.000000</td>", 
        "      <td>      1</td>", 
        "    </tr>", 
        "  </tbody>", 
        "</table>", 
        "</div>"
       ], 
       "output_type": "pyout", 
       "prompt_number": 20, 
       "text": [
        "                  id             rid         weight           year             date  \\", 
        "count  442262.000000   389963.000000  441892.000000  442262.000000    382454.000000   ", 
        "mean   221131.500000    54188.247245       0.996082    2002.931262    408640.208807   ", 
        "std    255250.217899   153832.541757       0.500715       6.359258   2588051.467483   ", 
        "min         1.000000        1.000000       0.100000    1990.000000         0.000000   ", 
        "25%    110566.250000     1147.000000       0.649572    1998.000000     40397.000000   ", 
        "50%    221131.500000     4409.000000       0.881001    2004.000000     70212.000000   ", 
        "75%    331696.750000   100083.000000       1.204123    2008.000000    100301.000000   ", 
        "max    442262.000000  2020955.000000       5.824109    2013.000000  20010528.000000   ", 
        "", 
        "                 age         fipsst         fipsco        density  regvoter  ", 
        "count  442262.000000  428020.000000  319442.000000  130895.000000    305512  ", 
        "mean       48.735786      28.603262      82.707014       2.816555         1  ", 
        "std        18.667399      15.723518      97.583575       1.393472         0  ", 
        "min         0.000000       1.000000       0.000000       1.000000         1  ", 
        "25%        34.000000      13.000000      25.000000       2.000000         1  ", 
        "50%        48.000000      29.000000      61.000000       3.000000         1  ", 
        "75%        62.000000      42.000000     107.000000       4.000000         1  ", 
        "max        99.000000      78.000000     840.000000       9.000000         1  "
       ]
      }
     ], 
     "prompt_number": 20
    }, 
    {
     "cell_type": "code", 
     "collapsed": false, 
     "input": [
      "pew.head(2)"
     ], 
     "language": "python", 
     "outputs": [
      {
       "html": [
        "<div style=\"max-height:1000px;max-width:1500px;overflow:auto;\">", 
        "<table border=\"1\" class=\"dataframe\">", 
        "  <thead>", 
        "    <tr style=\"text-align: right;\">", 
        "      <th></th>", 
        "      <th>id</th>", 
        "      <th>rid</th>", 
        "      <th>weight</th>", 
        "      <th>year</th>", 
        "      <th>date</th>", 
        "      <th>survey</th>", 
        "      <th>language</th>", 
        "      <th>age</th>", 
        "      <th>age2</th>", 
        "      <th>sex</th>", 
        "      <th>race</th>", 
        "      <th>racethn</th>", 
        "      <th>hisp</th>", 
        "      <th>income</th>", 
        "      <th>income2</th>", 
        "      <th>educ</th>", 
        "      <th>fipsst</th>", 
        "      <th>state_name</th>", 
        "      <th>fipsco</th>", 
        "      <th>county_name</th>", 
        "      <th>usr</th>", 
        "      <th>density</th>", 
        "      <th>partyln</th>", 
        "      <th>party</th>", 
        "      <th>partysum</th>", 
        "      <th>regvoter</th>", 
        "    </tr>", 
        "  </thead>", 
        "  <tbody>", 
        "    <tr>", 
        "      <th>0    </th>", 
        "      <td> 1</td>", 
        "      <td> 1</td>", 
        "      <td> 0.941828</td>", 
        "      <td> 1990</td>", 
        "      <td>NaN</td>", 
        "      <td> Jan90NII</td>", 
        "      <td> English only</td>", 
        "      <td> 46</td>", 
        "      <td> 30-49</td>", 
        "      <td> Female</td>", 
        "      <td> White</td>", 
        "      <td> NaN</td>", 
        "      <td> NaN</td>", 
        "      <td> NaN</td>", 
        "      <td> Missing\\not asked</td>", 
        "      <td>      College graduate</td>", 
        "      <td> 26</td>", 
        "      <td> Michigan</td>", 
        "      <td>NaN</td>", 
        "      <td> NaN</td>", 
        "      <td> NaN</td>", 
        "      <td>NaN</td>", 
        "      <td> NaN</td>", 
        "      <td> Independent</td>", 
        "      <td> No leaning</td>", 
        "      <td>NaN</td>", 
        "    </tr>", 
        "    <tr>", 
        "      <th>91640</th>", 
        "      <td> 2</td>", 
        "      <td> 2</td>", 
        "      <td> 1.465066</td>", 
        "      <td> 1990</td>", 
        "      <td>NaN</td>", 
        "      <td> Jan90NII</td>", 
        "      <td> English only</td>", 
        "      <td> 77</td>", 
        "      <td>   65+</td>", 
        "      <td>   Male</td>", 
        "      <td> White</td>", 
        "      <td> NaN</td>", 
        "      <td> NaN</td>", 
        "      <td> NaN</td>", 
        "      <td> Missing\\not asked</td>", 
        "      <td> Less than high school</td>", 
        "      <td> 36</td>", 
        "      <td> New York</td>", 
        "      <td>NaN</td>", 
        "      <td> NaN</td>", 
        "      <td> NaN</td>", 
        "      <td>NaN</td>", 
        "      <td> NaN</td>", 
        "      <td>  Republican</td>", 
        "      <td>   Rep/ln R</td>", 
        "      <td>NaN</td>", 
        "    </tr>", 
        "  </tbody>", 
        "</table>", 
        "</div>"
       ], 
       "output_type": "pyout", 
       "prompt_number": 57, 
       "text": [
        "       id  rid    weight  year  date    survey      language  age   age2     sex   race  \\", 
        "0       1    1  0.941828  1990   NaN  Jan90NII  English only   46  30-49  Female  White   ", 
        "91640   2    2  1.465066  1990   NaN  Jan90NII  English only   77    65+    Male  White   ", 
        "", 
        "      racethn hisp income            income2                   educ  fipsst  \\", 
        "0         NaN  NaN    NaN  Missing\\not asked       College graduate      26   ", 
        "91640     NaN  NaN    NaN  Missing\\not asked  Less than high school      36   ", 
        "", 
        "      state_name  fipsco county_name  usr  density partyln        party    partysum  \\", 
        "0       Michigan     NaN         NaN  NaN      NaN     NaN  Independent  No leaning   ", 
        "91640   New York     NaN         NaN  NaN      NaN     NaN   Republican    Rep/ln R   ", 
        "", 
        "       regvoter  ", 
        "0           NaN  ", 
        "91640       NaN  "
       ]
      }
     ], 
     "prompt_number": 57
    }, 
    {
     "cell_type": "markdown", 
     "source": [
      "## Analyze each column"
     ]
    }, 
    {
     "cell_type": "markdown", 
     "source": [
      "### Dates"
     ]
    }, 
    {
     "cell_type": "code", 
     "collapsed": false, 
     "input": [
      "pew.year.hist()"
     ], 
     "language": "python", 
     "outputs": [
      {
       "output_type": "pyout", 
       "prompt_number": 22, 
       "text": [
        "<matplotlib.axes.AxesSubplot at 0x19cb6410>"
       ]
      }, 
      {
       "output_type": "display_data", 
       "png": "[encoded data removed]"
      }
     ], 
     "prompt_number": 22
    }, 
    {
     "cell_type": "markdown", 
     "source": [
      "There are lots of surveys!"
     ]
    }, 
    {
     "cell_type": "code", 
     "collapsed": false, 
     "input": [
      "print len(pew.survey.value_counts())", 
      "print pew.survey.value_counts().head(2)", 
      "print pew.survey.value_counts().tail(2)"
     ], 
     "language": "python", 
     "outputs": [
      {
       "output_type": "stream", 
       "stream": "stdout", 
       "text": [
        "276", 
        "Decout00    5719", 
        "Typo99      3973"
       ]
      }, 
      {
       "output_type": "stream", 
       "stream": "stdout", 
       "text": [
        "", 
        "AprNII04     790", 
        "Janomni02    406"
       ]
      }, 
      {
       "output_type": "stream", 
       "stream": "stdout", 
       "text": [
        ""
       ]
      }
     ], 
     "prompt_number": 23
    }, 
    {
     "cell_type": "markdown", 
     "source": [
      "We could parse these *date* strings.  They look like mddyy."
     ]
    }, 
    {
     "cell_type": "code", 
     "collapsed": false, 
     "input": [
      "pew.date.value_counts()[:5]"
     ], 
     "language": "python", 
     "outputs": [
      {
       "output_type": "pyout", 
       "prompt_number": 25, 
       "text": [
        "31901     1478", 
        "80101     1277", 
        "91299     1205", 
        "0         1107", 
        "101708     922"
       ]
      }
     ], 
     "prompt_number": 25
    }, 
    {
     "cell_type": "code", 
     "collapsed": true, 
     "input": [
      "#pew['date_new'] = pew.date.apply(lambda d: "
     ], 
     "language": "python", 
     "outputs": [], 
     "prompt_number": 26
    }, 
    {
     "cell_type": "markdown", 
     "source": [
      "### Demographics"
     ]
    }, 
    {
     "cell_type": "code", 
     "collapsed": false, 
     "input": [
      "pew.language.value_counts()"
     ], 
     "language": "python", 
     "outputs": [
      {
       "output_type": "pyout", 
       "prompt_number": 27, 
       "text": [
        "English only           348561", 
        "English and Spanish     93701"
       ]
      }
     ], 
     "prompt_number": 27
    }, 
    {
     "cell_type": "markdown", 
     "source": [
      "These ages seem strange."
     ]
    }, 
    {
     "cell_type": "code", 
     "collapsed": false, 
     "input": [
      "pew.age.value_counts()[:5]"
     ], 
     "language": "python", 
     "outputs": [
      {
       "output_type": "pyout", 
       "prompt_number": 28, 
       "text": [
        "50    11054", 
        "40     9876", 
        "18     9210", 
        "45     9207", 
        "42     9137"
       ]
      }
     ], 
     "prompt_number": 28
    }, 
    {
     "cell_type": "markdown", 
     "source": [
      "There are spikes at regular intervals, e.g., 45 and 50, and at ages with special significance, e.g. 18.  Perhaps some surveys were done on people with specific ages, or the people or the poll data collector was rounding down (or up)."
     ]
    }, 
    {
     "cell_type": "code", 
     "collapsed": false, 
     "input": [
      "pew.age.hist(bins=100)"
     ], 
     "language": "python", 
     "outputs": [
      {
       "output_type": "pyout", 
       "prompt_number": 29, 
       "text": [
        "<matplotlib.axes.AxesSubplot at 0xac67970>"
       ]
      }, 
      {
       "output_type": "display_data", 
       "png": "[encoded data removed]"
      }
     ], 
     "prompt_number": 29
    }, 
    {
     "cell_type": "code", 
     "collapsed": false, 
     "input": [
      "pew.age2.value_counts()"
     ], 
     "language": "python", 
     "outputs": [
      {
       "output_type": "pyout", 
       "prompt_number": 30, 
       "text": [
        "30-49                159056", 
        "50-64                111068", 
        "65+                   88069", 
        "18-29                 77350", 
        "DK\\Refused             6563", 
        "Missing\\not asked       156"
       ]
      }
     ], 
     "prompt_number": 30
    }, 
    {
     "cell_type": "code", 
     "collapsed": false, 
     "input": [
      "pew.sex.value_counts()"
     ], 
     "language": "python", 
     "outputs": [
      {
       "output_type": "pyout", 
       "prompt_number": 31, 
       "text": [
        "Female    230365", 
        "Male      211897"
       ]
      }
     ], 
     "prompt_number": 31
    }, 
    {
     "cell_type": "markdown", 
     "source": [
      "Females are *more* likely to answer DK\\Refused."
     ]
    }, 
    {
     "cell_type": "code", 
     "collapsed": false, 
     "input": [
      "pew[pew.age2 == 'DK\\Refused'].sex.value_counts()"
     ], 
     "language": "python", 
     "outputs": [
      {
       "output_type": "pyout", 
       "prompt_number": 32, 
       "text": [
        "Female    4293", 
        "Male      2270"
       ]
      }
     ], 
     "prompt_number": 32
    }, 
    {
     "cell_type": "code", 
     "collapsed": false, 
     "input": [
      "pew.racethn.value_counts()"
     ], 
     "language": "python", 
     "outputs": [
      {
       "output_type": "pyout", 
       "prompt_number": 33, 
       "text": [
        "White non-Hisp    327168", 
        "Black non-Hisp     39701", 
        "Hispanic           28933", 
        "Other              21586", 
        "DK/Ref              5092"
       ]
      }
     ], 
     "prompt_number": 33
    }, 
    {
     "cell_type": "code", 
     "collapsed": false, 
     "input": [
      "pew.hisp.value_counts()"
     ], 
     "language": "python", 
     "outputs": [
      {
       "output_type": "pyout", 
       "prompt_number": 34, 
       "text": [
        "No            389830", 
        "Yes            28933", 
        "DK/Refused      3561"
       ]
      }
     ], 
     "prompt_number": 34
    }, 
    {
     "cell_type": "code", 
     "collapsed": false, 
     "input": [
      "pew.race.value_counts()"
     ], 
     "language": "python", 
     "outputs": [
      {
       "output_type": "pyout", 
       "prompt_number": 35, 
       "text": [
        "White          358296", 
        "Black           43238", 
        "Other/Mixed     22943", 
        "Asian           10041", 
        "DK/Refused       6457"
       ]
      }
     ], 
     "prompt_number": 35
    }, 
    {
     "cell_type": "markdown", 
     "source": [
      "Why are there two *income* columns?"
     ]
    }, 
    {
     "cell_type": "code", 
     "collapsed": false, 
     "input": [
      "pew.income.value_counts()"
     ], 
     "language": "python", 
     "outputs": [
      {
       "output_type": "pyout", 
       "prompt_number": 36, 
       "text": [
        "$50,000 to $74,999    56115", 
        "DK\\Refused            51980", 
        "$20,000 to $29,999    44149", 
        "$30,000 to $39,999    42308", 
        "$75,000 to $99,999    37979", 
        "$40,000 to $49,999    36696", 
        "$10,000 to $19,999    36216", 
        "$100k to $149,999     32736", 
        "less than $10,000     22826", 
        "$150,000+             15229"
       ]
      }
     ], 
     "prompt_number": 36
    }, 
    {
     "cell_type": "code", 
     "collapsed": false, 
     "input": [
      "pew.income2.value_counts()"
     ], 
     "language": "python", 
     "outputs": [
      {
       "output_type": "pyout", 
       "prompt_number": 37, 
       "text": [
        "$75,000+              106621", 
        "$30,000 to $49,999     79004", 
        "Missing\\not asked      77028", 
        "less than $20,000      59042", 
        "$50,000 to $74,999     56115", 
        "$20,000 to $29,999     44149", 
        "DK\\Refused             20303"
       ]
      }
     ], 
     "prompt_number": 37
    }, 
    {
     "cell_type": "code", 
     "collapsed": false, 
     "input": [
      "pew.educ.value_counts()"
     ], 
     "language": "python", 
     "outputs": [
      {
       "output_type": "pyout", 
       "prompt_number": 40, 
       "text": [
        "High school graduate          127171", 
        "Some College                  109343", 
        "College graduate               91640", 
        "Post-graduate                  53238", 
        "High school, incomplete        28952", 
        "Business, Technical, Trade     14465", 
        "Less than high school           8540", 
        "Post-graduate degree            5036", 
        "DK/Refused                      2594"
       ]
      }
     ], 
     "prompt_number": 40
    }, 
    {
     "cell_type": "code", 
     "collapsed": false, 
     "input": [
      "pew.head(2)"
     ], 
     "language": "python", 
     "outputs": [
      {
       "html": [
        "<div style=\"max-height:1000px;max-width:1500px;overflow:auto;\">", 
        "<table border=\"1\" class=\"dataframe\">", 
        "  <thead>", 
        "    <tr style=\"text-align: right;\">", 
        "      <th></th>", 
        "      <th>id</th>", 
        "      <th>rid</th>", 
        "      <th>weight</th>", 
        "      <th>year</th>", 
        "      <th>date</th>", 
        "      <th>survey</th>", 
        "      <th>language</th>", 
        "      <th>age</th>", 
        "      <th>age2</th>", 
        "      <th>sex</th>", 
        "      <th>race</th>", 
        "      <th>racethn</th>", 
        "      <th>hisp</th>", 
        "      <th>income</th>", 
        "      <th>income2</th>", 
        "      <th>educ</th>", 
        "      <th>fipsst</th>", 
        "      <th>state_name</th>", 
        "      <th>fipsco</th>", 
        "      <th>county_name</th>", 
        "      <th>usr</th>", 
        "      <th>density</th>", 
        "      <th>partyln</th>", 
        "      <th>party</th>", 
        "      <th>partysum</th>", 
        "      <th>regvoter</th>", 
        "    </tr>", 
        "  </thead>", 
        "  <tbody>", 
        "    <tr>", 
        "      <th>0    </th>", 
        "      <td> 1</td>", 
        "      <td> 1</td>", 
        "      <td> 0.941828</td>", 
        "      <td> 1990</td>", 
        "      <td>NaN</td>", 
        "      <td> Jan90NII</td>", 
        "      <td> English only</td>", 
        "      <td> 46</td>", 
        "      <td> 30-49</td>", 
        "      <td> Female</td>", 
        "      <td> White</td>", 
        "      <td> NaN</td>", 
        "      <td> NaN</td>", 
        "      <td> NaN</td>", 
        "      <td> Missing\\not asked</td>", 
        "      <td>      College graduate</td>", 
        "      <td> 26</td>", 
        "      <td> Michigan</td>", 
        "      <td>NaN</td>", 
        "      <td> NaN</td>", 
        "      <td> NaN</td>", 
        "      <td>NaN</td>", 
        "      <td> NaN</td>", 
        "      <td> Independent</td>", 
        "      <td> No leaning</td>", 
        "      <td>NaN</td>", 
        "    </tr>", 
        "    <tr>", 
        "      <th>91640</th>", 
        "      <td> 2</td>", 
        "      <td> 2</td>", 
        "      <td> 1.465066</td>", 
        "      <td> 1990</td>", 
        "      <td>NaN</td>", 
        "      <td> Jan90NII</td>", 
        "      <td> English only</td>", 
        "      <td> 77</td>", 
        "      <td>   65+</td>", 
        "      <td>   Male</td>", 
        "      <td> White</td>", 
        "      <td> NaN</td>", 
        "      <td> NaN</td>", 
        "      <td> NaN</td>", 
        "      <td> Missing\\not asked</td>", 
        "      <td> Less than high school</td>", 
        "      <td> 36</td>", 
        "      <td> New York</td>", 
        "      <td>NaN</td>", 
        "      <td> NaN</td>", 
        "      <td> NaN</td>", 
        "      <td>NaN</td>", 
        "      <td> NaN</td>", 
        "      <td>  Republican</td>", 
        "      <td>   Rep/ln R</td>", 
        "      <td>NaN</td>", 
        "    </tr>", 
        "  </tbody>", 
        "</table>", 
        "</div>"
       ], 
       "output_type": "pyout", 
       "prompt_number": 39, 
       "text": [
        "       id  rid    weight  year  date    survey      language  age   age2     sex   race  \\", 
        "0       1    1  0.941828  1990   NaN  Jan90NII  English only   46  30-49  Female  White   ", 
        "91640   2    2  1.465066  1990   NaN  Jan90NII  English only   77    65+    Male  White   ", 
        "", 
        "      racethn hisp income            income2                   educ  fipsst  \\", 
        "0         NaN  NaN    NaN  Missing\\not asked       College graduate      26   ", 
        "91640     NaN  NaN    NaN  Missing\\not asked  Less than high school      36   ", 
        "", 
        "      state_name  fipsco county_name  usr  density partyln        party    partysum  \\", 
        "0       Michigan     NaN         NaN  NaN      NaN     NaN  Independent  No leaning   ", 
        "91640   New York     NaN         NaN  NaN      NaN     NaN   Republican    Rep/ln R   ", 
        "", 
        "       regvoter  ", 
        "0           NaN  ", 
        "91640       NaN  "
       ]
      }
     ], 
     "prompt_number": 39
    }, 
    {
     "cell_type": "markdown", 
     "source": [
      "### Locations"
     ]
    }, 
    {
     "cell_type": "markdown", 
     "source": [
      "States, then counties, with most and least responses."
     ]
    }, 
    {
     "cell_type": "code", 
     "collapsed": false, 
     "input": [
      "print pew.state_name.value_counts()[:3]", 
      "print pew.state_name.value_counts()[-3:]"
     ], 
     "language": "python", 
     "outputs": [
      {
       "output_type": "stream", 
       "stream": "stdout", 
       "text": [
        "California    40684", 
        "Texas         27152", 
        "New York      24533", 
        "District of Columbia    850", 
        "Hawaii                  150", 
        "Alaska                  124"
       ]
      }
     ], 
     "prompt_number": 47
    }, 
    {
     "cell_type": "code", 
     "collapsed": false, 
     "input": [
      "print pew.county_name.value_counts()[:3]", 
      "print pew.county_name.value_counts()[-3:]"
     ], 
     "language": "python", 
     "outputs": [
      {
       "output_type": "stream", 
       "stream": "stdout", 
       "text": [
        "Los Angeles    6718", 
        "Cook           4083", 
        "Jefferson      4060", 
        "Griggs       1", 
        "Issaquena    1", 
        "Mellette     1"
       ]
      }
     ], 
     "prompt_number": 48
    }, 
    {
     "cell_type": "markdown", 
     "source": [
      "Mostly suburbanites."
     ]
    }, 
    {
     "cell_type": "code", 
     "collapsed": false, 
     "input": [
      "pew.usr.value_counts()"
     ], 
     "language": "python", 
     "outputs": [
      {
       "output_type": "pyout", 
       "prompt_number": 44, 
       "text": [
        "Suburban     139778", 
        "Urban         82713", 
        "Rural         60954"
       ]
      }
     ], 
     "prompt_number": 44
    }, 
    {
     "cell_type": "markdown", 
     "source": [
      "According to the Merge Codebook document, the scale goes from lowest population densith (1) to greatest (5).  Not sure what a *9* indicates; no data?"
     ]
    }, 
    {
     "cell_type": "code", 
     "collapsed": false, 
     "input": [
      "pew.density.value_counts()"
     ], 
     "language": "python", 
     "outputs": [
      {
       "output_type": "pyout", 
       "prompt_number": 45, 
       "text": [
        "1    30252", 
        "2    28749", 
        "3    27409", 
        "4    24141", 
        "5    20241", 
        "9      103"
       ]
      }
     ], 
     "prompt_number": 45
    }, 
    {
     "cell_type": "markdown", 
     "source": [
      "### Politics"
     ]
    }, 
    {
     "cell_type": "code", 
     "collapsed": false, 
     "input": [
      "pew.party.value_counts()"
     ], 
     "language": "python", 
     "outputs": [
      {
       "output_type": "pyout", 
       "prompt_number": 49, 
       "text": [
        "Independent      140659", 
        "Democrat         140233", 
        "Republican       127981", 
        "No Preference     14636", 
        "DK                11067", 
        "Other              2312"
       ]
      }
     ], 
     "prompt_number": 49
    }, 
    {
     "cell_type": "code", 
     "collapsed": false, 
     "input": [
      "pew.partyln.value_counts()"
     ], 
     "language": "python", 
     "outputs": [
      {
       "output_type": "pyout", 
       "prompt_number": 50, 
       "text": [
        "Missing/not asked    262804", 
        "Lean Democrat         59109", 
        "Lean Republican       55178", 
        "Other/DK              51246"
       ]
      }
     ], 
     "prompt_number": 50
    }, 
    {
     "cell_type": "markdown", 
     "source": [
      "Fairly well balanced between those leaning Dem and those leaning Rep."
     ]
    }, 
    {
     "cell_type": "code", 
     "collapsed": false, 
     "input": [
      "pew.partysum.value_counts()"
     ], 
     "language": "python", 
     "outputs": [
      {
       "output_type": "pyout", 
       "prompt_number": 51, 
       "text": [
        "Dem/ln D                          199342", 
        "Rep/ln R                          183159", 
        "No leaning                         54387", 
        "Party or Partyln not available      5374"
       ]
      }
     ], 
     "prompt_number": 51
    }, 
    {
     "cell_type": "markdown", 
     "source": [
      "All are registered voters?"
     ]
    }, 
    {
     "cell_type": "code", 
     "collapsed": false, 
     "input": [
      "pew.regvoter.value_counts()"
     ], 
     "language": "python", 
     "outputs": [
      {
       "output_type": "pyout", 
       "prompt_number": 52, 
       "text": [
        "1    305512"
       ]
      }
     ], 
     "prompt_number": 52
    }, 
    {
     "cell_type": "code", 
     "collapsed": false, 
     "input": [
      "print len(pew.regvoter)", 
      "print len(pew[pew.regvoter.isnull()])"
     ], 
     "language": "python", 
     "outputs": [
      {
       "output_type": "stream", 
       "stream": "stdout", 
       "text": [
        "442262", 
        "136750"
       ]
      }, 
      {
       "output_type": "stream", 
       "stream": "stdout", 
       "text": [
        ""
       ]
      }
     ], 
     "prompt_number": 53
    }, 
    {
     "cell_type": "markdown", 
     "source": [
      "The number of responses with *regvoter* seems to be increasing over the years compared to the number with *regvoter* missing."
     ]
    }, 
    {
     "cell_type": "code", 
     "collapsed": false, 
     "input": [
      "pew[pew.regvoter.isnull()].year.hist(bins=20)"
     ], 
     "language": "python", 
     "outputs": [
      {
       "output_type": "pyout", 
       "prompt_number": 54, 
       "text": [
        "<matplotlib.axes.AxesSubplot at 0x5483cd0>"
       ]
      }, 
      {
       "output_type": "display_data", 
       "png": "[encoded data removed]"
      }
     ], 
     "prompt_number": 54
    }, 
    {
     "cell_type": "code", 
     "collapsed": false, 
     "input": [
      "pew[pew.regvoter.notnull()].year.hist(bins=20)"
     ], 
     "language": "python", 
     "outputs": [
      {
       "output_type": "pyout", 
       "prompt_number": 56, 
       "text": [
        "<matplotlib.axes.AxesSubplot at 0x54d5ad0>"
       ]
      }, 
      {
       "output_type": "display_data", 
       "png": "[encoded data removed]"
      }
     ], 
     "prompt_number": 56
    }, 
    {
     "cell_type": "markdown", 
     "source": [
      "## Write to CSV"
     ]
    }, 
    {
     "cell_type": "code", 
     "collapsed": true, 
     "input": [
      "%time pew.to_csv('data/Pew_for_analysis.csv', index=False)"
     ], 
     "language": "python", 
     "outputs": [], 
     "prompt_number": 58
    }, 
    {
     "cell_type": "code", 
     "collapsed": true, 
     "input": [], 
     "language": "python", 
     "outputs": []
    }
   ]
  }
 ]
}