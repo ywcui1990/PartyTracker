{
 "metadata": {
  "name": ""
 },
 "nbformat": 3,
 "nbformat_minor": 0,
 "worksheets": [
  {
   "cells": [
    {
     "cell_type": "markdown",
     "metadata": {},
     "source": [
      "# Analyze the Pew.txt file"
     ]
    },
    {
     "cell_type": "markdown",
     "metadata": {},
     "source": [
      "This time using separate function to read in the file."
     ]
    },
    {
     "cell_type": "code",
     "collapsed": false,
     "input": [
      "import pandas as pd\n",
      "%load_ext autoreload\n",
      "%autoreload 2\n",
      "from pew_data_analysis import *\n",
      "pd.set_printoptions(max_columns=0, max_rows=1000)\n",
      "import statsmodels\n",
      "from ggplot import *\n",
      "#import pyplot as plt"
     ],
     "language": "python",
     "metadata": {},
     "outputs": [
      {
       "output_type": "stream",
       "stream": "stdout",
       "text": [
        "The autoreload extension is already loaded. To reload it, use:\n",
        "  %reload_ext autoreload\n"
       ]
      }
     ],
     "prompt_number": 96
    },
    {
     "cell_type": "code",
     "collapsed": false,
     "input": [
      "!ls data/"
     ],
     "language": "python",
     "metadata": {},
     "outputs": [
      {
       "output_type": "stream",
       "stream": "stdout",
       "text": [
        "Merge_Codebook.csv            Pew Merge dataset for UMD.zip Pew_for_analysis.xlsx         ~$Merge_Codebook.xlsx\r\n",
        "Merge_Codebook.xlsx           Pew.txt                       README.txt                    ~$Pew_for_analysis.xlsx\r\n",
        "\u001b[34mPew Merge dataset for UMD\u001b[m\u001b[m     Pew_for_analysis.csv          US_FIPS_Codes.csv\r\n"
       ]
      }
     ],
     "prompt_number": 97
    },
    {
     "cell_type": "code",
     "collapsed": false,
     "input": [
      "%time pew = read_pew_txt('data/Pew.txt','data/Merge_Codebook.csv','data/US_FIPS_Codes.csv')"
     ],
     "language": "python",
     "metadata": {},
     "outputs": [
      {
       "output_type": "stream",
       "stream": "stdout",
       "text": [
        "CPU times: user 13.8 s, sys: 1.85 s, total: 15.6 s\n",
        "Wall time: 15.6 s\n"
       ]
      }
     ],
     "prompt_number": 98
    },
    {
     "cell_type": "code",
     "collapsed": false,
     "input": [
      "#pew.info()"
     ],
     "language": "python",
     "metadata": {},
     "outputs": [],
     "prompt_number": 100
    },
    {
     "cell_type": "code",
     "collapsed": false,
     "input": [
      "pew.describe()"
     ],
     "language": "python",
     "metadata": {},
     "outputs": [
      {
       "html": [
        "<div style=\"max-height:1000px;max-width:1500px;overflow:auto;\">\n",
        "<table border=\"1\" class=\"dataframe\">\n",
        "  <thead>\n",
        "    <tr style=\"text-align: right;\">\n",
        "      <th></th>\n",
        "      <th>id</th>\n",
        "      <th>rid</th>\n",
        "      <th>weight</th>\n",
        "      <th>year</th>\n",
        "      <th>date</th>\n",
        "      <th>age</th>\n",
        "      <th>fipsst</th>\n",
        "      <th>fipsco</th>\n",
        "      <th>density</th>\n",
        "      <th>regvoter</th>\n",
        "    </tr>\n",
        "  </thead>\n",
        "  <tbody>\n",
        "    <tr>\n",
        "      <th>count</th>\n",
        "      <td> 442262.000000</td>\n",
        "      <td>  389963.000000</td>\n",
        "      <td> 441892.000000</td>\n",
        "      <td> 442262.000000</td>\n",
        "      <td>   382454.000000</td>\n",
        "      <td> 442262.000000</td>\n",
        "      <td> 428020.000000</td>\n",
        "      <td> 319442.000000</td>\n",
        "      <td> 130895.000000</td>\n",
        "      <td> 305512</td>\n",
        "    </tr>\n",
        "    <tr>\n",
        "      <th>mean</th>\n",
        "      <td> 221131.500000</td>\n",
        "      <td>   54188.247245</td>\n",
        "      <td>      0.996082</td>\n",
        "      <td>   2002.931262</td>\n",
        "      <td>   408640.208807</td>\n",
        "      <td>     48.735786</td>\n",
        "      <td>     28.603262</td>\n",
        "      <td>     82.707014</td>\n",
        "      <td>      2.816555</td>\n",
        "      <td>      1</td>\n",
        "    </tr>\n",
        "    <tr>\n",
        "      <th>std</th>\n",
        "      <td> 127670.186713</td>\n",
        "      <td>  153832.541757</td>\n",
        "      <td>      0.500715</td>\n",
        "      <td>      6.359258</td>\n",
        "      <td>  2588051.467483</td>\n",
        "      <td>     18.667399</td>\n",
        "      <td>     15.723518</td>\n",
        "      <td>     97.583575</td>\n",
        "      <td>      1.393472</td>\n",
        "      <td>      0</td>\n",
        "    </tr>\n",
        "    <tr>\n",
        "      <th>min</th>\n",
        "      <td>      1.000000</td>\n",
        "      <td>       1.000000</td>\n",
        "      <td>      0.100000</td>\n",
        "      <td>   1990.000000</td>\n",
        "      <td>        0.000000</td>\n",
        "      <td>      0.000000</td>\n",
        "      <td>      1.000000</td>\n",
        "      <td>      0.000000</td>\n",
        "      <td>      1.000000</td>\n",
        "      <td>      1</td>\n",
        "    </tr>\n",
        "    <tr>\n",
        "      <th>25%</th>\n",
        "      <td> 110566.250000</td>\n",
        "      <td>    1147.000000</td>\n",
        "      <td>      0.649572</td>\n",
        "      <td>   1998.000000</td>\n",
        "      <td>    40397.000000</td>\n",
        "      <td>     34.000000</td>\n",
        "      <td>     13.000000</td>\n",
        "      <td>     25.000000</td>\n",
        "      <td>      2.000000</td>\n",
        "      <td>      1</td>\n",
        "    </tr>\n",
        "    <tr>\n",
        "      <th>50%</th>\n",
        "      <td> 221131.500000</td>\n",
        "      <td>    4409.000000</td>\n",
        "      <td>      0.881001</td>\n",
        "      <td>   2004.000000</td>\n",
        "      <td>    70212.000000</td>\n",
        "      <td>     48.000000</td>\n",
        "      <td>     29.000000</td>\n",
        "      <td>     61.000000</td>\n",
        "      <td>      3.000000</td>\n",
        "      <td>      1</td>\n",
        "    </tr>\n",
        "    <tr>\n",
        "      <th>75%</th>\n",
        "      <td> 331696.750000</td>\n",
        "      <td>  100083.000000</td>\n",
        "      <td>      1.204123</td>\n",
        "      <td>   2008.000000</td>\n",
        "      <td>   100301.000000</td>\n",
        "      <td>     62.000000</td>\n",
        "      <td>     42.000000</td>\n",
        "      <td>    107.000000</td>\n",
        "      <td>      4.000000</td>\n",
        "      <td>      1</td>\n",
        "    </tr>\n",
        "    <tr>\n",
        "      <th>max</th>\n",
        "      <td> 442262.000000</td>\n",
        "      <td> 2020955.000000</td>\n",
        "      <td>      5.824109</td>\n",
        "      <td>   2013.000000</td>\n",
        "      <td> 20010528.000000</td>\n",
        "      <td>     99.000000</td>\n",
        "      <td>     78.000000</td>\n",
        "      <td>    840.000000</td>\n",
        "      <td>      9.000000</td>\n",
        "      <td>      1</td>\n",
        "    </tr>\n",
        "  </tbody>\n",
        "</table>\n",
        "</div>"
       ],
       "metadata": {},
       "output_type": "pyout",
       "prompt_number": 28,
       "text": [
        "<class 'pandas.core.frame.DataFrame'>\n",
        "Index: 8 entries, count to max\n",
        "Data columns (total 10 columns):\n",
        "id          8  non-null values\n",
        "rid         8  non-null values\n",
        "weight      8  non-null values\n",
        "year        8  non-null values\n",
        "date        8  non-null values\n",
        "age         8  non-null values\n",
        "fipsst      8  non-null values\n",
        "fipsco      8  non-null values\n",
        "density     8  non-null values\n",
        "regvoter    8  non-null values\n",
        "dtypes: float64(10)"
       ]
      }
     ],
     "prompt_number": 28
    },
    {
     "cell_type": "code",
     "collapsed": false,
     "input": [
      "pew.head(2)"
     ],
     "language": "python",
     "metadata": {},
     "outputs": [
      {
       "html": [
        "<div style=\"max-height:1000px;max-width:1500px;overflow:auto;\">\n",
        "<table border=\"1\" class=\"dataframe\">\n",
        "  <thead>\n",
        "    <tr style=\"text-align: right;\">\n",
        "      <th></th>\n",
        "      <th>id</th>\n",
        "      <th>rid</th>\n",
        "      <th>weight</th>\n",
        "      <th>year</th>\n",
        "      <th>date</th>\n",
        "      <th>survey</th>\n",
        "      <th>language</th>\n",
        "      <th>age</th>\n",
        "      <th>age2</th>\n",
        "      <th>sex</th>\n",
        "      <th>race</th>\n",
        "      <th>racethn</th>\n",
        "      <th>hisp</th>\n",
        "      <th>income</th>\n",
        "      <th>income2</th>\n",
        "      <th>educ</th>\n",
        "      <th>fipsst</th>\n",
        "      <th>state_name</th>\n",
        "      <th>fipsco</th>\n",
        "      <th>county_name</th>\n",
        "      <th>usr</th>\n",
        "      <th>density</th>\n",
        "      <th>partyln</th>\n",
        "      <th>party</th>\n",
        "      <th>partysum</th>\n",
        "      <th>regvoter</th>\n",
        "    </tr>\n",
        "  </thead>\n",
        "  <tbody>\n",
        "    <tr>\n",
        "      <th>0    </th>\n",
        "      <td> 1</td>\n",
        "      <td> 1</td>\n",
        "      <td> 0.941828</td>\n",
        "      <td> 1990</td>\n",
        "      <td>NaN</td>\n",
        "      <td> Jan90NII</td>\n",
        "      <td> English only</td>\n",
        "      <td> 46</td>\n",
        "      <td> 30-49</td>\n",
        "      <td> Female</td>\n",
        "      <td> White</td>\n",
        "      <td> NaN</td>\n",
        "      <td> NaN</td>\n",
        "      <td> NaN</td>\n",
        "      <td> Missing\\not asked</td>\n",
        "      <td>      College graduate</td>\n",
        "      <td> 26</td>\n",
        "      <td> Michigan</td>\n",
        "      <td>NaN</td>\n",
        "      <td> NaN</td>\n",
        "      <td> NaN</td>\n",
        "      <td>NaN</td>\n",
        "      <td> NaN</td>\n",
        "      <td> Independent</td>\n",
        "      <td> No leaning</td>\n",
        "      <td>NaN</td>\n",
        "    </tr>\n",
        "    <tr>\n",
        "      <th>91640</th>\n",
        "      <td> 2</td>\n",
        "      <td> 2</td>\n",
        "      <td> 1.465066</td>\n",
        "      <td> 1990</td>\n",
        "      <td>NaN</td>\n",
        "      <td> Jan90NII</td>\n",
        "      <td> English only</td>\n",
        "      <td> 77</td>\n",
        "      <td>   65+</td>\n",
        "      <td>   Male</td>\n",
        "      <td> White</td>\n",
        "      <td> NaN</td>\n",
        "      <td> NaN</td>\n",
        "      <td> NaN</td>\n",
        "      <td> Missing\\not asked</td>\n",
        "      <td> Less than high school</td>\n",
        "      <td> 36</td>\n",
        "      <td> New York</td>\n",
        "      <td>NaN</td>\n",
        "      <td> NaN</td>\n",
        "      <td> NaN</td>\n",
        "      <td>NaN</td>\n",
        "      <td> NaN</td>\n",
        "      <td>  Republican</td>\n",
        "      <td>   Rep/ln R</td>\n",
        "      <td>NaN</td>\n",
        "    </tr>\n",
        "  </tbody>\n",
        "</table>\n",
        "</div>"
       ],
       "metadata": {},
       "output_type": "pyout",
       "prompt_number": 29,
       "text": [
        "<class 'pandas.core.frame.DataFrame'>\n",
        "Int64Index: 2 entries, 0 to 91640\n",
        "Data columns (total 26 columns):\n",
        "id             2  non-null values\n",
        "rid            2  non-null values\n",
        "weight         2  non-null values\n",
        "year           2  non-null values\n",
        "date           0  non-null values\n",
        "survey         2  non-null values\n",
        "language       2  non-null values\n",
        "age            2  non-null values\n",
        "age2           2  non-null values\n",
        "sex            2  non-null values\n",
        "race           2  non-null values\n",
        "racethn        0  non-null values\n",
        "hisp           0  non-null values\n",
        "income         0  non-null values\n",
        "income2        2  non-null values\n",
        "educ           2  non-null values\n",
        "fipsst         2  non-null values\n",
        "state_name     2  non-null values\n",
        "fipsco         0  non-null values\n",
        "county_name    0  non-null values\n",
        "usr            0  non-null values\n",
        "density        0  non-null values\n",
        "partyln        0  non-null values\n",
        "party          2  non-null values\n",
        "partysum       2  non-null values\n",
        "regvoter       0  non-null values\n",
        "dtypes: float64(7), int64(3), object(16)"
       ]
      }
     ],
     "prompt_number": 29
    },
    {
     "cell_type": "markdown",
     "metadata": {},
     "source": [
      "## Analyze each column"
     ]
    },
    {
     "cell_type": "markdown",
     "metadata": {},
     "source": [
      "### Dates"
     ]
    },
    {
     "cell_type": "code",
     "collapsed": false,
     "input": [
      "pew.year.hist()"
     ],
     "language": "python",
     "metadata": {},
     "outputs": [
      {
       "metadata": {},
       "output_type": "pyout",
       "prompt_number": 30,
       "text": [
        "<matplotlib.axes.AxesSubplot at 0x63f29f0>"
       ]
      },
      {
       "metadata": {},
       "output_type": "display_data",
       "png": "[encoded data removed]",
       "text": [
        "<matplotlib.figure.Figure at 0x9c4ff50>"
       ]
      }
     ],
     "prompt_number": 30
    },
    {
     "cell_type": "markdown",
     "metadata": {},
     "source": [
      "There are lots of surveys!"
     ]
    },
    {
     "cell_type": "code",
     "collapsed": false,
     "input": [
      "print len(pew.survey.value_counts())\n",
      "print pew.survey.value_counts().head(2)\n",
      "print pew.survey.value_counts().tail(2)"
     ],
     "language": "python",
     "metadata": {},
     "outputs": [
      {
       "output_type": "stream",
       "stream": "stdout",
       "text": [
        "276\n",
        "Decout00    5719\n",
        "Typo99      3973\n",
        "dtype: int64"
       ]
      },
      {
       "output_type": "stream",
       "stream": "stdout",
       "text": [
        "\n",
        "AprNII04     790\n",
        "Janomni02    406\n",
        "dtype: int64"
       ]
      },
      {
       "output_type": "stream",
       "stream": "stdout",
       "text": [
        "\n"
       ]
      }
     ],
     "prompt_number": 31
    },
    {
     "cell_type": "markdown",
     "metadata": {},
     "source": [
      "We could parse these *date* strings.  They look like mddyy."
     ]
    },
    {
     "cell_type": "code",
     "collapsed": false,
     "input": [
      "pew.date.value_counts()[:5]"
     ],
     "language": "python",
     "metadata": {},
     "outputs": [
      {
       "metadata": {},
       "output_type": "pyout",
       "prompt_number": 32,
       "text": [
        "31901     1478\n",
        "80101     1277\n",
        "91299     1205\n",
        "0         1107\n",
        "101708     922\n",
        "dtype: int64"
       ]
      }
     ],
     "prompt_number": 32
    },
    {
     "cell_type": "code",
     "collapsed": true,
     "input": [
      "#pew['date_new'] = pew.date.apply(lambda d: "
     ],
     "language": "python",
     "metadata": {},
     "outputs": [],
     "prompt_number": 33
    },
    {
     "cell_type": "markdown",
     "metadata": {},
     "source": [
      "### Demographics"
     ]
    },
    {
     "cell_type": "code",
     "collapsed": false,
     "input": [
      "pew.language.value_counts()"
     ],
     "language": "python",
     "metadata": {},
     "outputs": [
      {
       "metadata": {},
       "output_type": "pyout",
       "prompt_number": 34,
       "text": [
        "English only           348561\n",
        "English and Spanish     93701\n",
        "dtype: int64"
       ]
      }
     ],
     "prompt_number": 34
    },
    {
     "cell_type": "markdown",
     "metadata": {},
     "source": [
      "These ages seem strange."
     ]
    },
    {
     "cell_type": "code",
     "collapsed": false,
     "input": [
      "pew.age.value_counts()[:5]"
     ],
     "language": "python",
     "metadata": {},
     "outputs": [
      {
       "metadata": {},
       "output_type": "pyout",
       "prompt_number": 35,
       "text": [
        "50    11054\n",
        "40     9876\n",
        "18     9210\n",
        "45     9207\n",
        "42     9137\n",
        "dtype: int64"
       ]
      }
     ],
     "prompt_number": 35
    },
    {
     "cell_type": "markdown",
     "metadata": {},
     "source": [
      "There are spikes at regular intervals, e.g., 45 and 50, and at ages with special significance, e.g. 18.  Perhaps some surveys were done on people with specific ages, or the people or the poll data collector was rounding down (or up)."
     ]
    },
    {
     "cell_type": "code",
     "collapsed": false,
     "input": [
      "pew.age.hist(bins=100)"
     ],
     "language": "python",
     "metadata": {},
     "outputs": [
      {
       "metadata": {},
       "output_type": "pyout",
       "prompt_number": 36,
       "text": [
        "<matplotlib.axes.AxesSubplot at 0x9bf5590>"
       ]
      },
      {
       "metadata": {},
       "output_type": "display_data",
       "png": "[encoded data removed]",
       "text": [
        "<matplotlib.figure.Figure at 0x9bed850>"
       ]
      }
     ],
     "prompt_number": 36
    },
    {
     "cell_type": "code",
     "collapsed": false,
     "input": [
      "pew.age2.value_counts()"
     ],
     "language": "python",
     "metadata": {},
     "outputs": [
      {
       "metadata": {},
       "output_type": "pyout",
       "prompt_number": 37,
       "text": [
        "30-49                159056\n",
        "50-64                111068\n",
        "65+                   88069\n",
        "18-29                 77350\n",
        "DK\\Refused             6563\n",
        "Missing\\not asked       156\n",
        "dtype: int64"
       ]
      }
     ],
     "prompt_number": 37
    },
    {
     "cell_type": "code",
     "collapsed": false,
     "input": [
      "print len(pew)\n",
      "print len(pew[pew.age.notnull()])\n",
      "print len(pew[pew.age2.notnull()])"
     ],
     "language": "python",
     "metadata": {},
     "outputs": [
      {
       "output_type": "stream",
       "stream": "stdout",
       "text": [
        "442262\n",
        "442262"
       ]
      },
      {
       "output_type": "stream",
       "stream": "stdout",
       "text": [
        "\n",
        "442262"
       ]
      },
      {
       "output_type": "stream",
       "stream": "stdout",
       "text": [
        "\n"
       ]
      }
     ],
     "prompt_number": 84
    },
    {
     "cell_type": "code",
     "collapsed": false,
     "input": [
      "pew.sex.value_counts()"
     ],
     "language": "python",
     "metadata": {},
     "outputs": [
      {
       "metadata": {},
       "output_type": "pyout",
       "prompt_number": 38,
       "text": [
        "Female    230365\n",
        "Male      211897\n",
        "dtype: int64"
       ]
      }
     ],
     "prompt_number": 38
    },
    {
     "cell_type": "code",
     "collapsed": false,
     "input": [
      "dg = pew[['id','year','age2','sex','racethn','income2']]\n",
      "dg.head(2)"
     ],
     "language": "python",
     "metadata": {},
     "outputs": [
      {
       "html": [
        "<div style=\"max-height:1000px;max-width:1500px;overflow:auto;\">\n",
        "<table border=\"1\" class=\"dataframe\">\n",
        "  <thead>\n",
        "    <tr style=\"text-align: right;\">\n",
        "      <th></th>\n",
        "      <th>id</th>\n",
        "      <th>year</th>\n",
        "      <th>age2</th>\n",
        "      <th>sex</th>\n",
        "      <th>racethn</th>\n",
        "      <th>income2</th>\n",
        "    </tr>\n",
        "  </thead>\n",
        "  <tbody>\n",
        "    <tr>\n",
        "      <th>0    </th>\n",
        "      <td> 1</td>\n",
        "      <td> 1990</td>\n",
        "      <td> 30-49</td>\n",
        "      <td> Female</td>\n",
        "      <td> NaN</td>\n",
        "      <td> Missing\\not asked</td>\n",
        "    </tr>\n",
        "    <tr>\n",
        "      <th>91640</th>\n",
        "      <td> 2</td>\n",
        "      <td> 1990</td>\n",
        "      <td>   65+</td>\n",
        "      <td>   Male</td>\n",
        "      <td> NaN</td>\n",
        "      <td> Missing\\not asked</td>\n",
        "    </tr>\n",
        "  </tbody>\n",
        "</table>\n",
        "</div>"
       ],
       "metadata": {},
       "output_type": "pyout",
       "prompt_number": 39,
       "text": [
        "       id  year   age2     sex racethn            income2\n",
        "0       1  1990  30-49  Female     NaN  Missing\\not asked\n",
        "91640   2  1990    65+    Male     NaN  Missing\\not asked"
       ]
      }
     ],
     "prompt_number": 39
    },
    {
     "cell_type": "code",
     "collapsed": false,
     "input": [
      "dg2 = dg.groupby(['year','sex','racethn','age2','income2']).agg(np.count_nonzero)\n",
      "dg2 = dg2.rename(columns={'id':'count'})\n",
      "dg2.head(20)"
     ],
     "language": "python",
     "metadata": {},
     "outputs": [
      {
       "html": [
        "<div style=\"max-height:1000px;max-width:1500px;overflow:auto;\">\n",
        "<table border=\"1\" class=\"dataframe\">\n",
        "  <thead>\n",
        "    <tr style=\"text-align: right;\">\n",
        "      <th></th>\n",
        "      <th></th>\n",
        "      <th></th>\n",
        "      <th></th>\n",
        "      <th></th>\n",
        "      <th>count</th>\n",
        "    </tr>\n",
        "    <tr>\n",
        "      <th>year</th>\n",
        "      <th>sex</th>\n",
        "      <th>racethn</th>\n",
        "      <th>age2</th>\n",
        "      <th>income2</th>\n",
        "      <th></th>\n",
        "    </tr>\n",
        "  </thead>\n",
        "  <tbody>\n",
        "    <tr>\n",
        "      <th rowspan=\"20\" valign=\"top\">1990</th>\n",
        "      <th rowspan=\"20\" valign=\"top\">Female</th>\n",
        "      <th rowspan=\"5\" valign=\"top\">Black non-Hisp</th>\n",
        "      <th>18-29</th>\n",
        "      <th>Missing\\not asked</th>\n",
        "      <td> 41</td>\n",
        "    </tr>\n",
        "    <tr>\n",
        "      <th>30-49</th>\n",
        "      <th>Missing\\not asked</th>\n",
        "      <td> 71</td>\n",
        "    </tr>\n",
        "    <tr>\n",
        "      <th>50-64</th>\n",
        "      <th>Missing\\not asked</th>\n",
        "      <td> 39</td>\n",
        "    </tr>\n",
        "    <tr>\n",
        "      <th>65+</th>\n",
        "      <th>Missing\\not asked</th>\n",
        "      <td> 48</td>\n",
        "    </tr>\n",
        "    <tr>\n",
        "      <th>DK\\Refused</th>\n",
        "      <th>Missing\\not asked</th>\n",
        "      <td>  3</td>\n",
        "    </tr>\n",
        "    <tr>\n",
        "      <th rowspan=\"6\" valign=\"top\">DK/Ref</th>\n",
        "      <th>18-29</th>\n",
        "      <th>Missing\\not asked</th>\n",
        "      <td>  4</td>\n",
        "    </tr>\n",
        "    <tr>\n",
        "      <th>30-49</th>\n",
        "      <th>Missing\\not asked</th>\n",
        "      <td> 12</td>\n",
        "    </tr>\n",
        "    <tr>\n",
        "      <th>50-64</th>\n",
        "      <th>Missing\\not asked</th>\n",
        "      <td>  4</td>\n",
        "    </tr>\n",
        "    <tr>\n",
        "      <th>65+</th>\n",
        "      <th>Missing\\not asked</th>\n",
        "      <td> 10</td>\n",
        "    </tr>\n",
        "    <tr>\n",
        "      <th>DK\\Refused</th>\n",
        "      <th>Missing\\not asked</th>\n",
        "      <td>  4</td>\n",
        "    </tr>\n",
        "    <tr>\n",
        "      <th>Missing\\not asked</th>\n",
        "      <th>Missing\\not asked</th>\n",
        "      <td> 24</td>\n",
        "    </tr>\n",
        "    <tr>\n",
        "      <th rowspan=\"4\" valign=\"top\">Hispanic</th>\n",
        "      <th>18-29</th>\n",
        "      <th>Missing\\not asked</th>\n",
        "      <td> 51</td>\n",
        "    </tr>\n",
        "    <tr>\n",
        "      <th>30-49</th>\n",
        "      <th>Missing\\not asked</th>\n",
        "      <td> 53</td>\n",
        "    </tr>\n",
        "    <tr>\n",
        "      <th>50-64</th>\n",
        "      <th>Missing\\not asked</th>\n",
        "      <td> 18</td>\n",
        "    </tr>\n",
        "    <tr>\n",
        "      <th>65+</th>\n",
        "      <th>Missing\\not asked</th>\n",
        "      <td> 13</td>\n",
        "    </tr>\n",
        "    <tr>\n",
        "      <th rowspan=\"5\" valign=\"top\">Other</th>\n",
        "      <th>18-29</th>\n",
        "      <th>Missing\\not asked</th>\n",
        "      <td>  7</td>\n",
        "    </tr>\n",
        "    <tr>\n",
        "      <th>30-49</th>\n",
        "      <th>Missing\\not asked</th>\n",
        "      <td> 10</td>\n",
        "    </tr>\n",
        "    <tr>\n",
        "      <th>50-64</th>\n",
        "      <th>Missing\\not asked</th>\n",
        "      <td>  4</td>\n",
        "    </tr>\n",
        "    <tr>\n",
        "      <th>65+</th>\n",
        "      <th>Missing\\not asked</th>\n",
        "      <td>  3</td>\n",
        "    </tr>\n",
        "    <tr>\n",
        "      <th>DK\\Refused</th>\n",
        "      <th>Missing\\not asked</th>\n",
        "      <td>  2</td>\n",
        "    </tr>\n",
        "  </tbody>\n",
        "</table>\n",
        "</div>"
       ],
       "metadata": {},
       "output_type": "pyout",
       "prompt_number": 40,
       "text": [
        "                                                                count\n",
        "year sex    racethn        age2              income2                 \n",
        "1990 Female Black non-Hisp 18-29             Missing\\not asked     41\n",
        "                           30-49             Missing\\not asked     71\n",
        "                           50-64             Missing\\not asked     39\n",
        "                           65+               Missing\\not asked     48\n",
        "                           DK\\Refused        Missing\\not asked      3\n",
        "            DK/Ref         18-29             Missing\\not asked      4\n",
        "                           30-49             Missing\\not asked     12\n",
        "                           50-64             Missing\\not asked      4\n",
        "                           65+               Missing\\not asked     10\n",
        "                           DK\\Refused        Missing\\not asked      4\n",
        "                           Missing\\not asked Missing\\not asked     24\n",
        "            Hispanic       18-29             Missing\\not asked     51\n",
        "                           30-49             Missing\\not asked     53\n",
        "                           50-64             Missing\\not asked     18\n",
        "                           65+               Missing\\not asked     13\n",
        "            Other          18-29             Missing\\not asked      7\n",
        "                           30-49             Missing\\not asked     10\n",
        "                           50-64             Missing\\not asked      4\n",
        "                           65+               Missing\\not asked      3\n",
        "                           DK\\Refused        Missing\\not asked      2"
       ]
      }
     ],
     "prompt_number": 40
    },
    {
     "cell_type": "code",
     "collapsed": false,
     "input": [
      "dg2.unstack('sex').unstack('racethn').head(2)"
     ],
     "language": "python",
     "metadata": {},
     "outputs": [
      {
       "html": [
        "<div style=\"max-height:1000px;max-width:1500px;overflow:auto;\">\n",
        "<table border=\"1\" class=\"dataframe\">\n",
        "  <thead>\n",
        "    <tr>\n",
        "      <th></th>\n",
        "      <th></th>\n",
        "      <th></th>\n",
        "      <th colspan=\"10\" halign=\"left\">count</th>\n",
        "    </tr>\n",
        "    <tr>\n",
        "      <th></th>\n",
        "      <th></th>\n",
        "      <th>sex</th>\n",
        "      <th colspan=\"5\" halign=\"left\">Female</th>\n",
        "      <th colspan=\"5\" halign=\"left\">Male</th>\n",
        "    </tr>\n",
        "    <tr>\n",
        "      <th></th>\n",
        "      <th></th>\n",
        "      <th>racethn</th>\n",
        "      <th>Black non-Hisp</th>\n",
        "      <th>DK/Ref</th>\n",
        "      <th>Hispanic</th>\n",
        "      <th>Other</th>\n",
        "      <th>White non-Hisp</th>\n",
        "      <th>Black non-Hisp</th>\n",
        "      <th>DK/Ref</th>\n",
        "      <th>Hispanic</th>\n",
        "      <th>Other</th>\n",
        "      <th>White non-Hisp</th>\n",
        "    </tr>\n",
        "    <tr>\n",
        "      <th>year</th>\n",
        "      <th>age2</th>\n",
        "      <th>income2</th>\n",
        "      <th></th>\n",
        "      <th></th>\n",
        "      <th></th>\n",
        "      <th></th>\n",
        "      <th></th>\n",
        "      <th></th>\n",
        "      <th></th>\n",
        "      <th></th>\n",
        "      <th></th>\n",
        "      <th></th>\n",
        "    </tr>\n",
        "  </thead>\n",
        "  <tbody>\n",
        "    <tr>\n",
        "      <th rowspan=\"2\" valign=\"top\">1990</th>\n",
        "      <th>18-29</th>\n",
        "      <th>Missing\\not asked</th>\n",
        "      <td> 41</td>\n",
        "      <td>  4</td>\n",
        "      <td> 51</td>\n",
        "      <td>  7</td>\n",
        "      <td> 212</td>\n",
        "      <td> 60</td>\n",
        "      <td> 12</td>\n",
        "      <td> 43</td>\n",
        "      <td> 10</td>\n",
        "      <td> 204</td>\n",
        "    </tr>\n",
        "    <tr>\n",
        "      <th>30-49</th>\n",
        "      <th>Missing\\not asked</th>\n",
        "      <td> 71</td>\n",
        "      <td> 12</td>\n",
        "      <td> 53</td>\n",
        "      <td> 10</td>\n",
        "      <td> 417</td>\n",
        "      <td> 77</td>\n",
        "      <td> 11</td>\n",
        "      <td> 39</td>\n",
        "      <td> 10</td>\n",
        "      <td> 401</td>\n",
        "    </tr>\n",
        "  </tbody>\n",
        "</table>\n",
        "</div>"
       ],
       "metadata": {},
       "output_type": "pyout",
       "prompt_number": 41,
       "text": [
        "<class 'pandas.core.frame.DataFrame'>\n",
        "MultiIndex: 2 entries, (1990, 18-29, Missing\\not asked) to (1990, 30-49, Missing\\not asked)\n",
        "Data columns (total 10 columns):\n",
        "(count, Female, Black non-Hisp)    2  non-null values\n",
        "(count, Female, DK/Ref)            2  non-null values\n",
        "(count, Female, Hispanic)          2  non-null values\n",
        "(count, Female, Other)             2  non-null values\n",
        "(count, Female, White non-Hisp)    2  non-null values\n",
        "(count, Male, Black non-Hisp)      2  non-null values\n",
        "(count, Male, DK/Ref)              2  non-null values\n",
        "(count, Male, Hispanic)            2  non-null values\n",
        "(count, Male, Other)               2  non-null values\n",
        "(count, Male, White non-Hisp)      2  non-null values\n",
        "dtypes: float64(10)"
       ]
      }
     ],
     "prompt_number": 41
    },
    {
     "cell_type": "code",
     "collapsed": false,
     "input": [
      "#dg2[dg2.age2 == '18-29']\n",
      "dg2.head(20)"
     ],
     "language": "python",
     "metadata": {},
     "outputs": [
      {
       "html": [
        "<div style=\"max-height:1000px;max-width:1500px;overflow:auto;\">\n",
        "<table border=\"1\" class=\"dataframe\">\n",
        "  <thead>\n",
        "    <tr style=\"text-align: right;\">\n",
        "      <th></th>\n",
        "      <th></th>\n",
        "      <th></th>\n",
        "      <th></th>\n",
        "      <th></th>\n",
        "      <th>count</th>\n",
        "    </tr>\n",
        "    <tr>\n",
        "      <th>year</th>\n",
        "      <th>sex</th>\n",
        "      <th>racethn</th>\n",
        "      <th>age2</th>\n",
        "      <th>income2</th>\n",
        "      <th></th>\n",
        "    </tr>\n",
        "  </thead>\n",
        "  <tbody>\n",
        "    <tr>\n",
        "      <th rowspan=\"20\" valign=\"top\">1990</th>\n",
        "      <th rowspan=\"20\" valign=\"top\">Female</th>\n",
        "      <th rowspan=\"5\" valign=\"top\">Black non-Hisp</th>\n",
        "      <th>18-29</th>\n",
        "      <th>Missing\\not asked</th>\n",
        "      <td> 41</td>\n",
        "    </tr>\n",
        "    <tr>\n",
        "      <th>30-49</th>\n",
        "      <th>Missing\\not asked</th>\n",
        "      <td> 71</td>\n",
        "    </tr>\n",
        "    <tr>\n",
        "      <th>50-64</th>\n",
        "      <th>Missing\\not asked</th>\n",
        "      <td> 39</td>\n",
        "    </tr>\n",
        "    <tr>\n",
        "      <th>65+</th>\n",
        "      <th>Missing\\not asked</th>\n",
        "      <td> 48</td>\n",
        "    </tr>\n",
        "    <tr>\n",
        "      <th>DK\\Refused</th>\n",
        "      <th>Missing\\not asked</th>\n",
        "      <td>  3</td>\n",
        "    </tr>\n",
        "    <tr>\n",
        "      <th rowspan=\"6\" valign=\"top\">DK/Ref</th>\n",
        "      <th>18-29</th>\n",
        "      <th>Missing\\not asked</th>\n",
        "      <td>  4</td>\n",
        "    </tr>\n",
        "    <tr>\n",
        "      <th>30-49</th>\n",
        "      <th>Missing\\not asked</th>\n",
        "      <td> 12</td>\n",
        "    </tr>\n",
        "    <tr>\n",
        "      <th>50-64</th>\n",
        "      <th>Missing\\not asked</th>\n",
        "      <td>  4</td>\n",
        "    </tr>\n",
        "    <tr>\n",
        "      <th>65+</th>\n",
        "      <th>Missing\\not asked</th>\n",
        "      <td> 10</td>\n",
        "    </tr>\n",
        "    <tr>\n",
        "      <th>DK\\Refused</th>\n",
        "      <th>Missing\\not asked</th>\n",
        "      <td>  4</td>\n",
        "    </tr>\n",
        "    <tr>\n",
        "      <th>Missing\\not asked</th>\n",
        "      <th>Missing\\not asked</th>\n",
        "      <td> 24</td>\n",
        "    </tr>\n",
        "    <tr>\n",
        "      <th rowspan=\"4\" valign=\"top\">Hispanic</th>\n",
        "      <th>18-29</th>\n",
        "      <th>Missing\\not asked</th>\n",
        "      <td> 51</td>\n",
        "    </tr>\n",
        "    <tr>\n",
        "      <th>30-49</th>\n",
        "      <th>Missing\\not asked</th>\n",
        "      <td> 53</td>\n",
        "    </tr>\n",
        "    <tr>\n",
        "      <th>50-64</th>\n",
        "      <th>Missing\\not asked</th>\n",
        "      <td> 18</td>\n",
        "    </tr>\n",
        "    <tr>\n",
        "      <th>65+</th>\n",
        "      <th>Missing\\not asked</th>\n",
        "      <td> 13</td>\n",
        "    </tr>\n",
        "    <tr>\n",
        "      <th rowspan=\"5\" valign=\"top\">Other</th>\n",
        "      <th>18-29</th>\n",
        "      <th>Missing\\not asked</th>\n",
        "      <td>  7</td>\n",
        "    </tr>\n",
        "    <tr>\n",
        "      <th>30-49</th>\n",
        "      <th>Missing\\not asked</th>\n",
        "      <td> 10</td>\n",
        "    </tr>\n",
        "    <tr>\n",
        "      <th>50-64</th>\n",
        "      <th>Missing\\not asked</th>\n",
        "      <td>  4</td>\n",
        "    </tr>\n",
        "    <tr>\n",
        "      <th>65+</th>\n",
        "      <th>Missing\\not asked</th>\n",
        "      <td>  3</td>\n",
        "    </tr>\n",
        "    <tr>\n",
        "      <th>DK\\Refused</th>\n",
        "      <th>Missing\\not asked</th>\n",
        "      <td>  2</td>\n",
        "    </tr>\n",
        "  </tbody>\n",
        "</table>\n",
        "</div>"
       ],
       "metadata": {},
       "output_type": "pyout",
       "prompt_number": 42,
       "text": [
        "                                                                count\n",
        "year sex    racethn        age2              income2                 \n",
        "1990 Female Black non-Hisp 18-29             Missing\\not asked     41\n",
        "                           30-49             Missing\\not asked     71\n",
        "                           50-64             Missing\\not asked     39\n",
        "                           65+               Missing\\not asked     48\n",
        "                           DK\\Refused        Missing\\not asked      3\n",
        "            DK/Ref         18-29             Missing\\not asked      4\n",
        "                           30-49             Missing\\not asked     12\n",
        "                           50-64             Missing\\not asked      4\n",
        "                           65+               Missing\\not asked     10\n",
        "                           DK\\Refused        Missing\\not asked      4\n",
        "                           Missing\\not asked Missing\\not asked     24\n",
        "            Hispanic       18-29             Missing\\not asked     51\n",
        "                           30-49             Missing\\not asked     53\n",
        "                           50-64             Missing\\not asked     18\n",
        "                           65+               Missing\\not asked     13\n",
        "            Other          18-29             Missing\\not asked      7\n",
        "                           30-49             Missing\\not asked     10\n",
        "                           50-64             Missing\\not asked      4\n",
        "                           65+               Missing\\not asked      3\n",
        "                           DK\\Refused        Missing\\not asked      2"
       ]
      }
     ],
     "prompt_number": 42
    },
    {
     "cell_type": "code",
     "collapsed": false,
     "input": [
      "dg2.index[:5]"
     ],
     "language": "python",
     "metadata": {},
     "outputs": [
      {
       "metadata": {},
       "output_type": "pyout",
       "prompt_number": 43,
       "text": [
        "MultiIndex\n",
        "[(1990, u'Female', u'Black non-Hisp', u'18-29', u'Missing\\not asked'), (1990, u'Female', u'Black non-Hisp', u'30-49', u'Missing\\not asked'), (1990, u'Female', u'Black non-Hisp', u'50-64', u'Missing\\not asked'), (1990, u'Female', u'Black non-Hisp', u'65+', u'Missing\\not asked'), (1990, u'Female', u'Black non-Hisp', u'DK\\Refused', u'Missing\\not asked')]"
       ]
      }
     ],
     "prompt_number": 43
    },
    {
     "cell_type": "code",
     "collapsed": false,
     "input": [
      "dg2.xs('18-29', level='age2').head(20)"
     ],
     "language": "python",
     "metadata": {},
     "outputs": [
      {
       "html": [
        "<div style=\"max-height:1000px;max-width:1500px;overflow:auto;\">\n",
        "<table border=\"1\" class=\"dataframe\">\n",
        "  <thead>\n",
        "    <tr style=\"text-align: right;\">\n",
        "      <th></th>\n",
        "      <th></th>\n",
        "      <th></th>\n",
        "      <th></th>\n",
        "      <th>count</th>\n",
        "    </tr>\n",
        "    <tr>\n",
        "      <th>year</th>\n",
        "      <th>sex</th>\n",
        "      <th>racethn</th>\n",
        "      <th>income2</th>\n",
        "      <th></th>\n",
        "    </tr>\n",
        "  </thead>\n",
        "  <tbody>\n",
        "    <tr>\n",
        "      <th rowspan=\"10\" valign=\"top\">1990</th>\n",
        "      <th rowspan=\"5\" valign=\"top\">Female</th>\n",
        "      <th>Black non-Hisp</th>\n",
        "      <th>Missing\\not asked</th>\n",
        "      <td>  41</td>\n",
        "    </tr>\n",
        "    <tr>\n",
        "      <th>DK/Ref</th>\n",
        "      <th>Missing\\not asked</th>\n",
        "      <td>   4</td>\n",
        "    </tr>\n",
        "    <tr>\n",
        "      <th>Hispanic</th>\n",
        "      <th>Missing\\not asked</th>\n",
        "      <td>  51</td>\n",
        "    </tr>\n",
        "    <tr>\n",
        "      <th>Other</th>\n",
        "      <th>Missing\\not asked</th>\n",
        "      <td>   7</td>\n",
        "    </tr>\n",
        "    <tr>\n",
        "      <th>White non-Hisp</th>\n",
        "      <th>Missing\\not asked</th>\n",
        "      <td> 212</td>\n",
        "    </tr>\n",
        "    <tr>\n",
        "      <th rowspan=\"5\" valign=\"top\">Male</th>\n",
        "      <th>Black non-Hisp</th>\n",
        "      <th>Missing\\not asked</th>\n",
        "      <td>  60</td>\n",
        "    </tr>\n",
        "    <tr>\n",
        "      <th>DK/Ref</th>\n",
        "      <th>Missing\\not asked</th>\n",
        "      <td>  12</td>\n",
        "    </tr>\n",
        "    <tr>\n",
        "      <th>Hispanic</th>\n",
        "      <th>Missing\\not asked</th>\n",
        "      <td>  43</td>\n",
        "    </tr>\n",
        "    <tr>\n",
        "      <th>Other</th>\n",
        "      <th>Missing\\not asked</th>\n",
        "      <td>  10</td>\n",
        "    </tr>\n",
        "    <tr>\n",
        "      <th>White non-Hisp</th>\n",
        "      <th>Missing\\not asked</th>\n",
        "      <td> 204</td>\n",
        "    </tr>\n",
        "    <tr>\n",
        "      <th rowspan=\"10\" valign=\"top\">1991</th>\n",
        "      <th rowspan=\"5\" valign=\"top\">Female</th>\n",
        "      <th>Black non-Hisp</th>\n",
        "      <th>Missing\\not asked</th>\n",
        "      <td>  43</td>\n",
        "    </tr>\n",
        "    <tr>\n",
        "      <th>DK/Ref</th>\n",
        "      <th>Missing\\not asked</th>\n",
        "      <td>   4</td>\n",
        "    </tr>\n",
        "    <tr>\n",
        "      <th>Hispanic</th>\n",
        "      <th>Missing\\not asked</th>\n",
        "      <td>  46</td>\n",
        "    </tr>\n",
        "    <tr>\n",
        "      <th>Other</th>\n",
        "      <th>Missing\\not asked</th>\n",
        "      <td>  13</td>\n",
        "    </tr>\n",
        "    <tr>\n",
        "      <th>White non-Hisp</th>\n",
        "      <th>Missing\\not asked</th>\n",
        "      <td> 365</td>\n",
        "    </tr>\n",
        "    <tr>\n",
        "      <th rowspan=\"5\" valign=\"top\">Male</th>\n",
        "      <th>Black non-Hisp</th>\n",
        "      <th>Missing\\not asked</th>\n",
        "      <td>  64</td>\n",
        "    </tr>\n",
        "    <tr>\n",
        "      <th>DK/Ref</th>\n",
        "      <th>Missing\\not asked</th>\n",
        "      <td>   5</td>\n",
        "    </tr>\n",
        "    <tr>\n",
        "      <th>Hispanic</th>\n",
        "      <th>Missing\\not asked</th>\n",
        "      <td>  57</td>\n",
        "    </tr>\n",
        "    <tr>\n",
        "      <th>Other</th>\n",
        "      <th>Missing\\not asked</th>\n",
        "      <td>  30</td>\n",
        "    </tr>\n",
        "    <tr>\n",
        "      <th>White non-Hisp</th>\n",
        "      <th>Missing\\not asked</th>\n",
        "      <td> 485</td>\n",
        "    </tr>\n",
        "  </tbody>\n",
        "</table>\n",
        "</div>"
       ],
       "metadata": {},
       "output_type": "pyout",
       "prompt_number": 44,
       "text": [
        "                                              count\n",
        "year sex    racethn        income2                 \n",
        "1990 Female Black non-Hisp Missing\\not asked     41\n",
        "            DK/Ref         Missing\\not asked      4\n",
        "            Hispanic       Missing\\not asked     51\n",
        "            Other          Missing\\not asked      7\n",
        "            White non-Hisp Missing\\not asked    212\n",
        "     Male   Black non-Hisp Missing\\not asked     60\n",
        "            DK/Ref         Missing\\not asked     12\n",
        "            Hispanic       Missing\\not asked     43\n",
        "            Other          Missing\\not asked     10\n",
        "            White non-Hisp Missing\\not asked    204\n",
        "1991 Female Black non-Hisp Missing\\not asked     43\n",
        "            DK/Ref         Missing\\not asked      4\n",
        "            Hispanic       Missing\\not asked     46\n",
        "            Other          Missing\\not asked     13\n",
        "            White non-Hisp Missing\\not asked    365\n",
        "     Male   Black non-Hisp Missing\\not asked     64\n",
        "            DK/Ref         Missing\\not asked      5\n",
        "            Hispanic       Missing\\not asked     57\n",
        "            Other          Missing\\not asked     30\n",
        "            White non-Hisp Missing\\not asked    485"
       ]
      }
     ],
     "prompt_number": 44
    },
    {
     "cell_type": "code",
     "collapsed": false,
     "input": [
      "#ps5.plot(kind='bar', stacked=True)"
     ],
     "language": "python",
     "metadata": {},
     "outputs": [],
     "prompt_number": 46
    },
    {
     "cell_type": "markdown",
     "metadata": {},
     "source": [
      "Females are *more* likely to answer DK\\Refused."
     ]
    },
    {
     "cell_type": "code",
     "collapsed": false,
     "input": [
      "pew[pew.age2 == 'DK\\Refused'].sex.value_counts()"
     ],
     "language": "python",
     "metadata": {},
     "outputs": [
      {
       "metadata": {},
       "output_type": "pyout",
       "prompt_number": 47,
       "text": [
        "Female    4293\n",
        "Male      2270\n",
        "dtype: int64"
       ]
      }
     ],
     "prompt_number": 47
    },
    {
     "cell_type": "code",
     "collapsed": false,
     "input": [
      "pew.racethn.value_counts()"
     ],
     "language": "python",
     "metadata": {},
     "outputs": [
      {
       "metadata": {},
       "output_type": "pyout",
       "prompt_number": 48,
       "text": [
        "White non-Hisp    327168\n",
        "Black non-Hisp     39701\n",
        "Hispanic           28933\n",
        "Other              21586\n",
        "DK/Ref              5092\n",
        "dtype: int64"
       ]
      }
     ],
     "prompt_number": 48
    },
    {
     "cell_type": "code",
     "collapsed": false,
     "input": [
      "pew.hisp.value_counts()"
     ],
     "language": "python",
     "metadata": {},
     "outputs": [
      {
       "metadata": {},
       "output_type": "pyout",
       "prompt_number": 49,
       "text": [
        "No            389830\n",
        "Yes            28933\n",
        "DK/Refused      3561\n",
        "dtype: int64"
       ]
      }
     ],
     "prompt_number": 49
    },
    {
     "cell_type": "code",
     "collapsed": false,
     "input": [
      "pew.race.value_counts()"
     ],
     "language": "python",
     "metadata": {},
     "outputs": [
      {
       "metadata": {},
       "output_type": "pyout",
       "prompt_number": 50,
       "text": [
        "White          358296\n",
        "Black           43238\n",
        "Other/Mixed     22943\n",
        "Asian           10041\n",
        "DK/Refused       6457\n",
        "dtype: int64"
       ]
      }
     ],
     "prompt_number": 50
    },
    {
     "cell_type": "markdown",
     "metadata": {},
     "source": [
      "Why are there two *income* columns?"
     ]
    },
    {
     "cell_type": "code",
     "collapsed": false,
     "input": [
      "pew.income.value_counts()"
     ],
     "language": "python",
     "metadata": {},
     "outputs": [
      {
       "metadata": {},
       "output_type": "pyout",
       "prompt_number": 51,
       "text": [
        "$50,000 to $74,999    56115\n",
        "DK\\Refused            51980\n",
        "$20,000 to $29,999    44149\n",
        "$30,000 to $39,999    42308\n",
        "$75,000 to $99,999    37979\n",
        "$40,000 to $49,999    36696\n",
        "$10,000 to $19,999    36216\n",
        "$100k to $149,999     32736\n",
        "less than $10,000     22826\n",
        "$150,000+             15229\n",
        "dtype: int64"
       ]
      }
     ],
     "prompt_number": 51
    },
    {
     "cell_type": "code",
     "collapsed": false,
     "input": [
      "pew.income2.value_counts()"
     ],
     "language": "python",
     "metadata": {},
     "outputs": [
      {
       "metadata": {},
       "output_type": "pyout",
       "prompt_number": 52,
       "text": [
        "$75,000+              106621\n",
        "$30,000 to $49,999     79004\n",
        "Missing\\not asked      77028\n",
        "less than $20,000      59042\n",
        "$50,000 to $74,999     56115\n",
        "$20,000 to $29,999     44149\n",
        "DK\\Refused             20303\n",
        "dtype: int64"
       ]
      }
     ],
     "prompt_number": 52
    },
    {
     "cell_type": "code",
     "collapsed": false,
     "input": [
      "print 'all', len(pew)\n",
      "print 'income', len(pew[pew.income.notnull()])\n",
      "print 'income2', len(pew[pew.income2.notnull()])\n",
      "print 'income but not income2', len(pew[(pew.income2.isnull()) & (pew.income.notnull())])\n",
      "print 'income2 but not income', len(pew[(pew.income.isnull()) & (pew.income2.notnull())])"
     ],
     "language": "python",
     "metadata": {},
     "outputs": [
      {
       "output_type": "stream",
       "stream": "stdout",
       "text": [
        "all 442262\n",
        "income "
       ]
      },
      {
       "output_type": "stream",
       "stream": "stdout",
       "text": [
        "376234\n",
        "income2 "
       ]
      },
      {
       "output_type": "stream",
       "stream": "stdout",
       "text": [
        "442262\n",
        "income but not income2 "
       ]
      },
      {
       "output_type": "stream",
       "stream": "stdout",
       "text": [
        "0\n",
        "income2 but not income "
       ]
      },
      {
       "output_type": "stream",
       "stream": "stdout",
       "text": [
        "66028\n"
       ]
      }
     ],
     "prompt_number": 53
    },
    {
     "cell_type": "code",
     "collapsed": false,
     "input": [
      "pew[pew.income.notnull()].year.hist()"
     ],
     "language": "python",
     "metadata": {},
     "outputs": [
      {
       "metadata": {},
       "output_type": "pyout",
       "prompt_number": 54,
       "text": [
        "<matplotlib.axes.AxesSubplot at 0x6bac2b0>"
       ]
      },
      {
       "metadata": {},
       "output_type": "display_data",
       "png": "[encoded data removed]",
       "text": [
        "<matplotlib.figure.Figure at 0x6ad3d30>"
       ]
      }
     ],
     "prompt_number": 54
    },
    {
     "cell_type": "code",
     "collapsed": false,
     "input": [
      "pew[pew.income2.notnull()].year.hist()"
     ],
     "language": "python",
     "metadata": {},
     "outputs": [
      {
       "metadata": {},
       "output_type": "pyout",
       "prompt_number": 55,
       "text": [
        "<matplotlib.axes.AxesSubplot at 0x6baf670>"
       ]
      },
      {
       "metadata": {},
       "output_type": "display_data",
       "png": "[encoded data removed]",
       "text": [
        "<matplotlib.figure.Figure at 0x6bf25f0>"
       ]
      }
     ],
     "prompt_number": 55
    },
    {
     "cell_type": "code",
     "collapsed": false,
     "input": [
      "pd.crosstab(pew.income, pew.income2)"
     ],
     "language": "python",
     "metadata": {},
     "outputs": [
      {
       "html": [
        "<div style=\"max-height:1000px;max-width:1500px;overflow:auto;\">\n",
        "<table border=\"1\" class=\"dataframe\">\n",
        "  <thead>\n",
        "    <tr style=\"text-align: right;\">\n",
        "      <th>income2</th>\n",
        "      <th>$20,000 to $29,999</th>\n",
        "      <th>$30,000 to $49,999</th>\n",
        "      <th>$50,000 to $74,999</th>\n",
        "      <th>$75,000+</th>\n",
        "      <th>DK\\Refused</th>\n",
        "      <th>Missing\\not asked</th>\n",
        "      <th>less than $20,000</th>\n",
        "    </tr>\n",
        "    <tr>\n",
        "      <th>income</th>\n",
        "      <th></th>\n",
        "      <th></th>\n",
        "      <th></th>\n",
        "      <th></th>\n",
        "      <th></th>\n",
        "      <th></th>\n",
        "      <th></th>\n",
        "    </tr>\n",
        "  </thead>\n",
        "  <tbody>\n",
        "    <tr>\n",
        "      <th>$10,000 to $19,999</th>\n",
        "      <td>     0</td>\n",
        "      <td>     0</td>\n",
        "      <td>     0</td>\n",
        "      <td>     0</td>\n",
        "      <td>     0</td>\n",
        "      <td>     0</td>\n",
        "      <td> 36216</td>\n",
        "    </tr>\n",
        "    <tr>\n",
        "      <th>$100k to $149,999</th>\n",
        "      <td>     0</td>\n",
        "      <td>     0</td>\n",
        "      <td>     0</td>\n",
        "      <td> 32736</td>\n",
        "      <td>     0</td>\n",
        "      <td>     0</td>\n",
        "      <td>     0</td>\n",
        "    </tr>\n",
        "    <tr>\n",
        "      <th>$150,000+</th>\n",
        "      <td>     0</td>\n",
        "      <td>     0</td>\n",
        "      <td>     0</td>\n",
        "      <td> 15229</td>\n",
        "      <td>     0</td>\n",
        "      <td>     0</td>\n",
        "      <td>     0</td>\n",
        "    </tr>\n",
        "    <tr>\n",
        "      <th>$20,000 to $29,999</th>\n",
        "      <td> 44149</td>\n",
        "      <td>     0</td>\n",
        "      <td>     0</td>\n",
        "      <td>     0</td>\n",
        "      <td>     0</td>\n",
        "      <td>     0</td>\n",
        "      <td>     0</td>\n",
        "    </tr>\n",
        "    <tr>\n",
        "      <th>$30,000 to $39,999</th>\n",
        "      <td>     0</td>\n",
        "      <td> 42308</td>\n",
        "      <td>     0</td>\n",
        "      <td>     0</td>\n",
        "      <td>     0</td>\n",
        "      <td>     0</td>\n",
        "      <td>     0</td>\n",
        "    </tr>\n",
        "    <tr>\n",
        "      <th>$40,000 to $49,999</th>\n",
        "      <td>     0</td>\n",
        "      <td> 36696</td>\n",
        "      <td>     0</td>\n",
        "      <td>     0</td>\n",
        "      <td>     0</td>\n",
        "      <td>     0</td>\n",
        "      <td>     0</td>\n",
        "    </tr>\n",
        "    <tr>\n",
        "      <th>$50,000 to $74,999</th>\n",
        "      <td>     0</td>\n",
        "      <td>     0</td>\n",
        "      <td> 56115</td>\n",
        "      <td>     0</td>\n",
        "      <td>     0</td>\n",
        "      <td>     0</td>\n",
        "      <td>     0</td>\n",
        "    </tr>\n",
        "    <tr>\n",
        "      <th>$75,000 to $99,999</th>\n",
        "      <td>     0</td>\n",
        "      <td>     0</td>\n",
        "      <td>     0</td>\n",
        "      <td> 37979</td>\n",
        "      <td>     0</td>\n",
        "      <td>     0</td>\n",
        "      <td>     0</td>\n",
        "    </tr>\n",
        "    <tr>\n",
        "      <th>DK\\Refused</th>\n",
        "      <td>     0</td>\n",
        "      <td>     0</td>\n",
        "      <td>     0</td>\n",
        "      <td> 20677</td>\n",
        "      <td> 20303</td>\n",
        "      <td> 11000</td>\n",
        "      <td>     0</td>\n",
        "    </tr>\n",
        "    <tr>\n",
        "      <th>less than $10,000</th>\n",
        "      <td>     0</td>\n",
        "      <td>     0</td>\n",
        "      <td>     0</td>\n",
        "      <td>     0</td>\n",
        "      <td>     0</td>\n",
        "      <td>     0</td>\n",
        "      <td> 22826</td>\n",
        "    </tr>\n",
        "  </tbody>\n",
        "</table>\n",
        "</div>"
       ],
       "metadata": {},
       "output_type": "pyout",
       "prompt_number": 56,
       "text": [
        "<class 'pandas.core.frame.DataFrame'>\n",
        "Index: 10 entries, $10,000 to $19,999 to less than $10,000\n",
        "Data columns (total 7 columns):\n",
        "$20,000 to $29,999    10  non-null values\n",
        "$30,000 to $49,999    10  non-null values\n",
        "$50,000 to $74,999    10  non-null values\n",
        "$75,000+              10  non-null values\n",
        "DK\\Refused            10  non-null values\n",
        "Missing\\not asked     10  non-null values\n",
        "less than $20,000     10  non-null values\n",
        "dtypes: int64(7)"
       ]
      }
     ],
     "prompt_number": 56
    },
    {
     "cell_type": "code",
     "collapsed": false,
     "input": [
      "pew.educ.value_counts()"
     ],
     "language": "python",
     "metadata": {},
     "outputs": [
      {
       "metadata": {},
       "output_type": "pyout",
       "prompt_number": 57,
       "text": [
        "High school graduate          127171\n",
        "Some College                  109343\n",
        "College graduate               91640\n",
        "Post-graduate                  53238\n",
        "High school, incomplete        28952\n",
        "Business, Technical, Trade     14465\n",
        "Less than high school           8540\n",
        "Post-graduate degree            5036\n",
        "DK/Refused                      2594\n",
        "dtype: int64"
       ]
      }
     ],
     "prompt_number": 57
    },
    {
     "cell_type": "code",
     "collapsed": false,
     "input": [
      "pew.head(2)"
     ],
     "language": "python",
     "metadata": {},
     "outputs": [
      {
       "html": [
        "<div style=\"max-height:1000px;max-width:1500px;overflow:auto;\">\n",
        "<table border=\"1\" class=\"dataframe\">\n",
        "  <thead>\n",
        "    <tr style=\"text-align: right;\">\n",
        "      <th></th>\n",
        "      <th>id</th>\n",
        "      <th>rid</th>\n",
        "      <th>weight</th>\n",
        "      <th>year</th>\n",
        "      <th>date</th>\n",
        "      <th>survey</th>\n",
        "      <th>language</th>\n",
        "      <th>age</th>\n",
        "      <th>age2</th>\n",
        "      <th>sex</th>\n",
        "      <th>race</th>\n",
        "      <th>racethn</th>\n",
        "      <th>hisp</th>\n",
        "      <th>income</th>\n",
        "      <th>income2</th>\n",
        "      <th>educ</th>\n",
        "      <th>fipsst</th>\n",
        "      <th>state_name</th>\n",
        "      <th>fipsco</th>\n",
        "      <th>county_name</th>\n",
        "      <th>usr</th>\n",
        "      <th>density</th>\n",
        "      <th>partyln</th>\n",
        "      <th>party</th>\n",
        "      <th>partysum</th>\n",
        "      <th>regvoter</th>\n",
        "    </tr>\n",
        "  </thead>\n",
        "  <tbody>\n",
        "    <tr>\n",
        "      <th>0    </th>\n",
        "      <td> 1</td>\n",
        "      <td> 1</td>\n",
        "      <td> 0.941828</td>\n",
        "      <td> 1990</td>\n",
        "      <td>NaN</td>\n",
        "      <td> Jan90NII</td>\n",
        "      <td> English only</td>\n",
        "      <td> 46</td>\n",
        "      <td> 30-49</td>\n",
        "      <td> Female</td>\n",
        "      <td> White</td>\n",
        "      <td> NaN</td>\n",
        "      <td> NaN</td>\n",
        "      <td> NaN</td>\n",
        "      <td> Missing\\not asked</td>\n",
        "      <td>      College graduate</td>\n",
        "      <td> 26</td>\n",
        "      <td> Michigan</td>\n",
        "      <td>NaN</td>\n",
        "      <td> NaN</td>\n",
        "      <td> NaN</td>\n",
        "      <td>NaN</td>\n",
        "      <td> NaN</td>\n",
        "      <td> Independent</td>\n",
        "      <td> No leaning</td>\n",
        "      <td>NaN</td>\n",
        "    </tr>\n",
        "    <tr>\n",
        "      <th>91640</th>\n",
        "      <td> 2</td>\n",
        "      <td> 2</td>\n",
        "      <td> 1.465066</td>\n",
        "      <td> 1990</td>\n",
        "      <td>NaN</td>\n",
        "      <td> Jan90NII</td>\n",
        "      <td> English only</td>\n",
        "      <td> 77</td>\n",
        "      <td>   65+</td>\n",
        "      <td>   Male</td>\n",
        "      <td> White</td>\n",
        "      <td> NaN</td>\n",
        "      <td> NaN</td>\n",
        "      <td> NaN</td>\n",
        "      <td> Missing\\not asked</td>\n",
        "      <td> Less than high school</td>\n",
        "      <td> 36</td>\n",
        "      <td> New York</td>\n",
        "      <td>NaN</td>\n",
        "      <td> NaN</td>\n",
        "      <td> NaN</td>\n",
        "      <td>NaN</td>\n",
        "      <td> NaN</td>\n",
        "      <td>  Republican</td>\n",
        "      <td>   Rep/ln R</td>\n",
        "      <td>NaN</td>\n",
        "    </tr>\n",
        "  </tbody>\n",
        "</table>\n",
        "</div>"
       ],
       "metadata": {},
       "output_type": "pyout",
       "prompt_number": 58,
       "text": [
        "<class 'pandas.core.frame.DataFrame'>\n",
        "Int64Index: 2 entries, 0 to 91640\n",
        "Data columns (total 26 columns):\n",
        "id             2  non-null values\n",
        "rid            2  non-null values\n",
        "weight         2  non-null values\n",
        "year           2  non-null values\n",
        "date           0  non-null values\n",
        "survey         2  non-null values\n",
        "language       2  non-null values\n",
        "age            2  non-null values\n",
        "age2           2  non-null values\n",
        "sex            2  non-null values\n",
        "race           2  non-null values\n",
        "racethn        0  non-null values\n",
        "hisp           0  non-null values\n",
        "income         0  non-null values\n",
        "income2        2  non-null values\n",
        "educ           2  non-null values\n",
        "fipsst         2  non-null values\n",
        "state_name     2  non-null values\n",
        "fipsco         0  non-null values\n",
        "county_name    0  non-null values\n",
        "usr            0  non-null values\n",
        "density        0  non-null values\n",
        "partyln        0  non-null values\n",
        "party          2  non-null values\n",
        "partysum       2  non-null values\n",
        "regvoter       0  non-null values\n",
        "dtypes: float64(7), int64(3), object(16)"
       ]
      }
     ],
     "prompt_number": 58
    },
    {
     "cell_type": "markdown",
     "metadata": {},
     "source": [
      "### Locations"
     ]
    },
    {
     "cell_type": "markdown",
     "metadata": {},
     "source": [
      "States, then counties, with most and least responses."
     ]
    },
    {
     "cell_type": "code",
     "collapsed": false,
     "input": [
      "print pew.state_name.value_counts()[:3]\n",
      "print pew.state_name.value_counts()[-3:]"
     ],
     "language": "python",
     "metadata": {},
     "outputs": [
      {
       "output_type": "stream",
       "stream": "stdout",
       "text": [
        "California    40684\n",
        "Texas         27152\n",
        "New York      24533\n",
        "dtype: int64\n",
        "District of Columbia    850\n",
        "Hawaii                  150\n",
        "Alaska                  124\n",
        "dtype: int64"
       ]
      },
      {
       "output_type": "stream",
       "stream": "stdout",
       "text": [
        "\n"
       ]
      }
     ],
     "prompt_number": 59
    },
    {
     "cell_type": "code",
     "collapsed": false,
     "input": [
      "print pew.county_name.value_counts()[:3]\n",
      "print pew.county_name.value_counts()[-3:]"
     ],
     "language": "python",
     "metadata": {},
     "outputs": [
      {
       "output_type": "stream",
       "stream": "stdout",
       "text": [
        "Los Angeles    6718\n",
        "Cook           4083\n",
        "Jefferson      4060\n",
        "dtype: int64\n",
        "Hodgeman            1\n",
        "Northwest Arctic    1\n",
        "Stonewall           1\n",
        "dtype: int64"
       ]
      },
      {
       "output_type": "stream",
       "stream": "stdout",
       "text": [
        "\n"
       ]
      }
     ],
     "prompt_number": 60
    },
    {
     "cell_type": "markdown",
     "metadata": {},
     "source": [
      "Mostly suburbanites."
     ]
    },
    {
     "cell_type": "code",
     "collapsed": false,
     "input": [
      "pew.usr.value_counts()"
     ],
     "language": "python",
     "metadata": {},
     "outputs": [
      {
       "metadata": {},
       "output_type": "pyout",
       "prompt_number": 61,
       "text": [
        "Suburban     139778\n",
        "Urban         82713\n",
        "Rural         60954\n",
        "dtype: int64"
       ]
      }
     ],
     "prompt_number": 61
    },
    {
     "cell_type": "code",
     "collapsed": false,
     "input": [
      "print len(pew), len(pew[pew.usr.notnull()])"
     ],
     "language": "python",
     "metadata": {},
     "outputs": [
      {
       "output_type": "stream",
       "stream": "stdout",
       "text": [
        "442262 "
       ]
      },
      {
       "output_type": "stream",
       "stream": "stdout",
       "text": [
        "283445\n"
       ]
      }
     ],
     "prompt_number": 85
    },
    {
     "cell_type": "code",
     "collapsed": false,
     "input": [
      "pew[pew.usr.notnull()].year.hist()"
     ],
     "language": "python",
     "metadata": {},
     "outputs": [
      {
       "metadata": {},
       "output_type": "pyout",
       "prompt_number": 86,
       "text": [
        "<matplotlib.axes.AxesSubplot at 0x779f890>"
       ]
      },
      {
       "metadata": {},
       "output_type": "display_data",
       "png": "[encoded data removed]",
       "text": [
        "<matplotlib.figure.Figure at 0x777cf70>"
       ]
      }
     ],
     "prompt_number": 86
    },
    {
     "cell_type": "markdown",
     "metadata": {},
     "source": [
      "According to the Merge Codebook document, the scale goes from lowest population densith (1) to greatest (5).  Not sure what a *9* indicates; no data?"
     ]
    },
    {
     "cell_type": "code",
     "collapsed": false,
     "input": [
      "pew.density.value_counts()"
     ],
     "language": "python",
     "metadata": {},
     "outputs": [
      {
       "metadata": {},
       "output_type": "pyout",
       "prompt_number": 89,
       "text": [
        "1    30252\n",
        "2    28749\n",
        "3    27409\n",
        "4    24141\n",
        "5    20241\n",
        "9      103\n",
        "dtype: int64"
       ]
      }
     ],
     "prompt_number": 89
    },
    {
     "cell_type": "code",
     "collapsed": false,
     "input": [
      "print len(pew), len(pew[pew.density.notnull()])"
     ],
     "language": "python",
     "metadata": {},
     "outputs": [
      {
       "output_type": "stream",
       "stream": "stdout",
       "text": [
        "442262 "
       ]
      },
      {
       "output_type": "stream",
       "stream": "stdout",
       "text": [
        "130895\n"
       ]
      }
     ],
     "prompt_number": 90
    },
    {
     "cell_type": "code",
     "collapsed": false,
     "input": [
      "pew[pew.density.notnull()].year.value_counts()"
     ],
     "language": "python",
     "metadata": {},
     "outputs": [
      {
       "metadata": {},
       "output_type": "pyout",
       "prompt_number": 95,
       "text": [
        "2008    29035\n",
        "2012    25051\n",
        "2010    24764\n",
        "2009    22159\n",
        "2011    19377\n",
        "2013    10509\n",
        "dtype: int64"
       ]
      }
     ],
     "prompt_number": 95
    },
    {
     "cell_type": "code",
     "collapsed": false,
     "input": [
      "loc = pew[['id','year','density']]\n",
      "loc.head(2)"
     ],
     "language": "python",
     "metadata": {},
     "outputs": [
      {
       "html": [
        "<div style=\"max-height:1000px;max-width:1500px;overflow:auto;\">\n",
        "<table border=\"1\" class=\"dataframe\">\n",
        "  <thead>\n",
        "    <tr style=\"text-align: right;\">\n",
        "      <th></th>\n",
        "      <th>id</th>\n",
        "      <th>year</th>\n",
        "      <th>density</th>\n",
        "    </tr>\n",
        "  </thead>\n",
        "  <tbody>\n",
        "    <tr>\n",
        "      <th>0    </th>\n",
        "      <td> 1</td>\n",
        "      <td> 1990</td>\n",
        "      <td>NaN</td>\n",
        "    </tr>\n",
        "    <tr>\n",
        "      <th>91640</th>\n",
        "      <td> 2</td>\n",
        "      <td> 1990</td>\n",
        "      <td>NaN</td>\n",
        "    </tr>\n",
        "  </tbody>\n",
        "</table>\n",
        "</div>"
       ],
       "metadata": {},
       "output_type": "pyout",
       "prompt_number": 63,
       "text": [
        "       id  year  density\n",
        "0       1  1990      NaN\n",
        "91640   2  1990      NaN"
       ]
      }
     ],
     "prompt_number": 63
    },
    {
     "cell_type": "code",
     "collapsed": false,
     "input": [
      "%time l2 = pd.pivot_table(loc, values='id', rows='year', cols='density', aggfunc=np.count_nonzero)\n",
      "l2.head(3)"
     ],
     "language": "python",
     "metadata": {},
     "outputs": [
      {
       "output_type": "stream",
       "stream": "stdout",
       "text": [
        "CPU times: user 80.5 ms, sys: 18.2 ms, total: 98.7 ms\n",
        "Wall time: 99.5 ms\n"
       ]
      },
      {
       "html": [
        "<div style=\"max-height:1000px;max-width:1500px;overflow:auto;\">\n",
        "<table border=\"1\" class=\"dataframe\">\n",
        "  <thead>\n",
        "    <tr style=\"text-align: right;\">\n",
        "      <th>density</th>\n",
        "      <th>1.0</th>\n",
        "      <th>2.0</th>\n",
        "      <th>3.0</th>\n",
        "      <th>4.0</th>\n",
        "      <th>5.0</th>\n",
        "      <th>9.0</th>\n",
        "    </tr>\n",
        "    <tr>\n",
        "      <th>year</th>\n",
        "      <th></th>\n",
        "      <th></th>\n",
        "      <th></th>\n",
        "      <th></th>\n",
        "      <th></th>\n",
        "      <th></th>\n",
        "    </tr>\n",
        "  </thead>\n",
        "  <tbody>\n",
        "    <tr>\n",
        "      <th>2008</th>\n",
        "      <td> 6643</td>\n",
        "      <td> 6452</td>\n",
        "      <td> 6148</td>\n",
        "      <td> 5315</td>\n",
        "      <td> 4377</td>\n",
        "      <td> 100</td>\n",
        "    </tr>\n",
        "    <tr>\n",
        "      <th>2009</th>\n",
        "      <td> 5056</td>\n",
        "      <td> 4895</td>\n",
        "      <td> 4720</td>\n",
        "      <td> 4100</td>\n",
        "      <td> 3386</td>\n",
        "      <td>   2</td>\n",
        "    </tr>\n",
        "    <tr>\n",
        "      <th>2010</th>\n",
        "      <td> 5780</td>\n",
        "      <td> 5512</td>\n",
        "      <td> 5202</td>\n",
        "      <td> 4510</td>\n",
        "      <td> 3760</td>\n",
        "      <td> NaN</td>\n",
        "    </tr>\n",
        "  </tbody>\n",
        "</table>\n",
        "</div>"
       ],
       "metadata": {},
       "output_type": "pyout",
       "prompt_number": 64,
       "text": [
        "density     1     2     3     4     5    9\n",
        "year                                      \n",
        "2008     6643  6452  6148  5315  4377  100\n",
        "2009     5056  4895  4720  4100  3386    2\n",
        "2010     5780  5512  5202  4510  3760  NaN"
       ]
      }
     ],
     "prompt_number": 64
    },
    {
     "cell_type": "code",
     "collapsed": false,
     "input": [
      "plot(l2.index, l2[1.0])"
     ],
     "language": "python",
     "metadata": {},
     "outputs": [
      {
       "metadata": {},
       "output_type": "pyout",
       "prompt_number": 65,
       "text": [
        "[<matplotlib.lines.Line2D at 0x6c1ecf0>]"
       ]
      },
      {
       "metadata": {},
       "output_type": "display_data",
       "png": "[encoded data removed]",
       "text": [
        "<matplotlib.figure.Figure at 0x6cc5e10>"
       ]
      }
     ],
     "prompt_number": 65
    },
    {
     "cell_type": "markdown",
     "metadata": {},
     "source": [
      "####How much coverage over counties do we have?"
     ]
    },
    {
     "cell_type": "code",
     "collapsed": false,
     "input": [
      "pew.head()"
     ],
     "language": "python",
     "metadata": {},
     "outputs": [
      {
       "html": [
        "<div style=\"max-height:1000px;max-width:1500px;overflow:auto;\">\n",
        "<table border=\"1\" class=\"dataframe\">\n",
        "  <thead>\n",
        "    <tr style=\"text-align: right;\">\n",
        "      <th></th>\n",
        "      <th>id</th>\n",
        "      <th>rid</th>\n",
        "      <th>weight</th>\n",
        "      <th>year</th>\n",
        "      <th>date</th>\n",
        "      <th>survey</th>\n",
        "      <th>language</th>\n",
        "      <th>age</th>\n",
        "      <th>age2</th>\n",
        "      <th>sex</th>\n",
        "      <th>race</th>\n",
        "      <th>racethn</th>\n",
        "      <th>hisp</th>\n",
        "      <th>income</th>\n",
        "      <th>income2</th>\n",
        "      <th>educ</th>\n",
        "      <th>fipsst</th>\n",
        "      <th>state_name</th>\n",
        "      <th>fipsco</th>\n",
        "      <th>county_name</th>\n",
        "      <th>usr</th>\n",
        "      <th>density</th>\n",
        "      <th>partyln</th>\n",
        "      <th>party</th>\n",
        "      <th>partysum</th>\n",
        "      <th>regvoter</th>\n",
        "    </tr>\n",
        "  </thead>\n",
        "  <tbody>\n",
        "    <tr>\n",
        "      <th>0     </th>\n",
        "      <td> 1</td>\n",
        "      <td> 1</td>\n",
        "      <td> 0.941828</td>\n",
        "      <td> 1990</td>\n",
        "      <td>NaN</td>\n",
        "      <td> Jan90NII</td>\n",
        "      <td> English only</td>\n",
        "      <td> 46</td>\n",
        "      <td> 30-49</td>\n",
        "      <td> Female</td>\n",
        "      <td> White</td>\n",
        "      <td> NaN</td>\n",
        "      <td> NaN</td>\n",
        "      <td> NaN</td>\n",
        "      <td> Missing\\not asked</td>\n",
        "      <td>        College graduate</td>\n",
        "      <td> 26</td>\n",
        "      <td>   Michigan</td>\n",
        "      <td>NaN</td>\n",
        "      <td> NaN</td>\n",
        "      <td> NaN</td>\n",
        "      <td>NaN</td>\n",
        "      <td> NaN</td>\n",
        "      <td> Independent</td>\n",
        "      <td> No leaning</td>\n",
        "      <td>NaN</td>\n",
        "    </tr>\n",
        "    <tr>\n",
        "      <th>91640 </th>\n",
        "      <td> 2</td>\n",
        "      <td> 2</td>\n",
        "      <td> 1.465066</td>\n",
        "      <td> 1990</td>\n",
        "      <td>NaN</td>\n",
        "      <td> Jan90NII</td>\n",
        "      <td> English only</td>\n",
        "      <td> 77</td>\n",
        "      <td>   65+</td>\n",
        "      <td>   Male</td>\n",
        "      <td> White</td>\n",
        "      <td> NaN</td>\n",
        "      <td> NaN</td>\n",
        "      <td> NaN</td>\n",
        "      <td> Missing\\not asked</td>\n",
        "      <td>   Less than high school</td>\n",
        "      <td> 36</td>\n",
        "      <td>   New York</td>\n",
        "      <td>NaN</td>\n",
        "      <td> NaN</td>\n",
        "      <td> NaN</td>\n",
        "      <td>NaN</td>\n",
        "      <td> NaN</td>\n",
        "      <td>  Republican</td>\n",
        "      <td>   Rep/ln R</td>\n",
        "      <td>NaN</td>\n",
        "    </tr>\n",
        "    <tr>\n",
        "      <th>1     </th>\n",
        "      <td> 3</td>\n",
        "      <td> 3</td>\n",
        "      <td> 0.812558</td>\n",
        "      <td> 1990</td>\n",
        "      <td>NaN</td>\n",
        "      <td> Jan90NII</td>\n",
        "      <td> English only</td>\n",
        "      <td> 29</td>\n",
        "      <td> 18-29</td>\n",
        "      <td>   Male</td>\n",
        "      <td> Black</td>\n",
        "      <td> NaN</td>\n",
        "      <td> NaN</td>\n",
        "      <td> NaN</td>\n",
        "      <td> Missing\\not asked</td>\n",
        "      <td>        College graduate</td>\n",
        "      <td> 24</td>\n",
        "      <td>   Maryland</td>\n",
        "      <td>NaN</td>\n",
        "      <td> NaN</td>\n",
        "      <td> NaN</td>\n",
        "      <td>NaN</td>\n",
        "      <td> NaN</td>\n",
        "      <td>    Democrat</td>\n",
        "      <td>   Dem/ln D</td>\n",
        "      <td>NaN</td>\n",
        "    </tr>\n",
        "    <tr>\n",
        "      <th>100180</th>\n",
        "      <td> 4</td>\n",
        "      <td> 4</td>\n",
        "      <td> 1.126500</td>\n",
        "      <td> 1990</td>\n",
        "      <td>NaN</td>\n",
        "      <td> Jan90NII</td>\n",
        "      <td> English only</td>\n",
        "      <td> 86</td>\n",
        "      <td>   65+</td>\n",
        "      <td>   Male</td>\n",
        "      <td> White</td>\n",
        "      <td> NaN</td>\n",
        "      <td> NaN</td>\n",
        "      <td> NaN</td>\n",
        "      <td> Missing\\not asked</td>\n",
        "      <td> High school, incomplete</td>\n",
        "      <td> 17</td>\n",
        "      <td>   Illinois</td>\n",
        "      <td>NaN</td>\n",
        "      <td> NaN</td>\n",
        "      <td> NaN</td>\n",
        "      <td>NaN</td>\n",
        "      <td> NaN</td>\n",
        "      <td>          DK</td>\n",
        "      <td> No leaning</td>\n",
        "      <td>NaN</td>\n",
        "    </tr>\n",
        "    <tr>\n",
        "      <th>129132</th>\n",
        "      <td> 5</td>\n",
        "      <td> 5</td>\n",
        "      <td> 2.406894</td>\n",
        "      <td> 1990</td>\n",
        "      <td>NaN</td>\n",
        "      <td> Jan90NII</td>\n",
        "      <td> English only</td>\n",
        "      <td> 39</td>\n",
        "      <td> 30-49</td>\n",
        "      <td>   Male</td>\n",
        "      <td> White</td>\n",
        "      <td> NaN</td>\n",
        "      <td> NaN</td>\n",
        "      <td> NaN</td>\n",
        "      <td> Missing\\not asked</td>\n",
        "      <td>            Some College</td>\n",
        "      <td> 34</td>\n",
        "      <td> New Jersey</td>\n",
        "      <td>NaN</td>\n",
        "      <td> NaN</td>\n",
        "      <td> NaN</td>\n",
        "      <td>NaN</td>\n",
        "      <td> NaN</td>\n",
        "      <td> Independent</td>\n",
        "      <td> No leaning</td>\n",
        "      <td>NaN</td>\n",
        "    </tr>\n",
        "  </tbody>\n",
        "</table>\n",
        "</div>"
       ],
       "metadata": {},
       "output_type": "pyout",
       "prompt_number": 66,
       "text": [
        "<class 'pandas.core.frame.DataFrame'>\n",
        "Int64Index: 5 entries, 0 to 129132\n",
        "Data columns (total 26 columns):\n",
        "id             5  non-null values\n",
        "rid            5  non-null values\n",
        "weight         5  non-null values\n",
        "year           5  non-null values\n",
        "date           0  non-null values\n",
        "survey         5  non-null values\n",
        "language       5  non-null values\n",
        "age            5  non-null values\n",
        "age2           5  non-null values\n",
        "sex            5  non-null values\n",
        "race           5  non-null values\n",
        "racethn        0  non-null values\n",
        "hisp           0  non-null values\n",
        "income         0  non-null values\n",
        "income2        5  non-null values\n",
        "educ           5  non-null values\n",
        "fipsst         5  non-null values\n",
        "state_name     5  non-null values\n",
        "fipsco         0  non-null values\n",
        "county_name    0  non-null values\n",
        "usr            0  non-null values\n",
        "density        0  non-null values\n",
        "partyln        0  non-null values\n",
        "party          5  non-null values\n",
        "partysum       5  non-null values\n",
        "regvoter       0  non-null values\n",
        "dtypes: float64(7), int64(3), object(16)"
       ]
      }
     ],
     "prompt_number": 66
    },
    {
     "cell_type": "code",
     "collapsed": false,
     "input": [
      "fips = pd.read_csv('data/US_FIPS_Codes.csv')\n",
      "fips.head(2)"
     ],
     "language": "python",
     "metadata": {},
     "outputs": [
      {
       "html": [
        "<div style=\"max-height:1000px;max-width:1500px;overflow:auto;\">\n",
        "<table border=\"1\" class=\"dataframe\">\n",
        "  <thead>\n",
        "    <tr style=\"text-align: right;\">\n",
        "      <th></th>\n",
        "      <th>State</th>\n",
        "      <th>County Name</th>\n",
        "      <th>FIPS State</th>\n",
        "      <th>FIPS County</th>\n",
        "    </tr>\n",
        "  </thead>\n",
        "  <tbody>\n",
        "    <tr>\n",
        "      <th>0</th>\n",
        "      <td> Alabama</td>\n",
        "      <td> Autauga</td>\n",
        "      <td> 1</td>\n",
        "      <td> 1</td>\n",
        "    </tr>\n",
        "    <tr>\n",
        "      <th>1</th>\n",
        "      <td> Alabama</td>\n",
        "      <td> Baldwin</td>\n",
        "      <td> 1</td>\n",
        "      <td> 3</td>\n",
        "    </tr>\n",
        "  </tbody>\n",
        "</table>\n",
        "</div>"
       ],
       "metadata": {},
       "output_type": "pyout",
       "prompt_number": 67,
       "text": [
        "     State County Name  FIPS State  FIPS County\n",
        "0  Alabama     Autauga           1            1\n",
        "1  Alabama     Baldwin           1            3"
       ]
      }
     ],
     "prompt_number": 67
    },
    {
     "cell_type": "code",
     "collapsed": false,
     "input": [
      "pewloc = pew[['id','year','fipsst','fipsco']]\n",
      "pewloc.head(2)"
     ],
     "language": "python",
     "metadata": {},
     "outputs": [
      {
       "html": [
        "<div style=\"max-height:1000px;max-width:1500px;overflow:auto;\">\n",
        "<table border=\"1\" class=\"dataframe\">\n",
        "  <thead>\n",
        "    <tr style=\"text-align: right;\">\n",
        "      <th></th>\n",
        "      <th>id</th>\n",
        "      <th>year</th>\n",
        "      <th>fipsst</th>\n",
        "      <th>fipsco</th>\n",
        "    </tr>\n",
        "  </thead>\n",
        "  <tbody>\n",
        "    <tr>\n",
        "      <th>0    </th>\n",
        "      <td> 1</td>\n",
        "      <td> 1990</td>\n",
        "      <td> 26</td>\n",
        "      <td>NaN</td>\n",
        "    </tr>\n",
        "    <tr>\n",
        "      <th>91640</th>\n",
        "      <td> 2</td>\n",
        "      <td> 1990</td>\n",
        "      <td> 36</td>\n",
        "      <td>NaN</td>\n",
        "    </tr>\n",
        "  </tbody>\n",
        "</table>\n",
        "</div>"
       ],
       "metadata": {},
       "output_type": "pyout",
       "prompt_number": 68,
       "text": [
        "       id  year  fipsst  fipsco\n",
        "0       1  1990      26     NaN\n",
        "91640   2  1990      36     NaN"
       ]
      }
     ],
     "prompt_number": 68
    },
    {
     "cell_type": "code",
     "collapsed": false,
     "input": [
      "pl2 = pewloc.dropna()\n",
      "print len(pewloc), len(pl2)\n",
      "pl2.head(2)"
     ],
     "language": "python",
     "metadata": {},
     "outputs": [
      {
       "output_type": "stream",
       "stream": "stdout",
       "text": [
        "442262 319442\n"
       ]
      },
      {
       "html": [
        "<div style=\"max-height:1000px;max-width:1500px;overflow:auto;\">\n",
        "<table border=\"1\" class=\"dataframe\">\n",
        "  <thead>\n",
        "    <tr style=\"text-align: right;\">\n",
        "      <th></th>\n",
        "      <th>id</th>\n",
        "      <th>year</th>\n",
        "      <th>fipsst</th>\n",
        "      <th>fipsco</th>\n",
        "    </tr>\n",
        "  </thead>\n",
        "  <tbody>\n",
        "    <tr>\n",
        "      <th>395215</th>\n",
        "      <td> 122821</td>\n",
        "      <td> 1999</td>\n",
        "      <td> 1</td>\n",
        "      <td> 0</td>\n",
        "    </tr>\n",
        "    <tr>\n",
        "      <th>277000</th>\n",
        "      <td> 122822</td>\n",
        "      <td> 1999</td>\n",
        "      <td> 1</td>\n",
        "      <td> 0</td>\n",
        "    </tr>\n",
        "  </tbody>\n",
        "</table>\n",
        "</div>"
       ],
       "metadata": {},
       "output_type": "pyout",
       "prompt_number": 69,
       "text": [
        "            id  year  fipsst  fipsco\n",
        "395215  122821  1999       1       0\n",
        "277000  122822  1999       1       0"
       ]
      }
     ],
     "prompt_number": 69
    },
    {
     "cell_type": "code",
     "collapsed": false,
     "input": [
      "pl3 = pl2.merge(fips, left_on=['fipsst','fipsco'], right_on=['FIPS State','FIPS County'], how='right')\n",
      "print len(pl3)\n",
      "pl3.head(2)"
     ],
     "language": "python",
     "metadata": {},
     "outputs": [
      {
       "output_type": "stream",
       "stream": "stdout",
       "text": [
        "307738\n"
       ]
      },
      {
       "html": [
        "<div style=\"max-height:1000px;max-width:1500px;overflow:auto;\">\n",
        "<table border=\"1\" class=\"dataframe\">\n",
        "  <thead>\n",
        "    <tr style=\"text-align: right;\">\n",
        "      <th></th>\n",
        "      <th>id</th>\n",
        "      <th>year</th>\n",
        "      <th>fipsst</th>\n",
        "      <th>fipsco</th>\n",
        "      <th>State</th>\n",
        "      <th>County Name</th>\n",
        "      <th>FIPS State</th>\n",
        "      <th>FIPS County</th>\n",
        "    </tr>\n",
        "  </thead>\n",
        "  <tbody>\n",
        "    <tr>\n",
        "      <th>0</th>\n",
        "      <td> 123054</td>\n",
        "      <td> 1999</td>\n",
        "      <td> 1</td>\n",
        "      <td> 1</td>\n",
        "      <td> Alabama</td>\n",
        "      <td> Autauga</td>\n",
        "      <td> 1</td>\n",
        "      <td> 1</td>\n",
        "    </tr>\n",
        "    <tr>\n",
        "      <th>1</th>\n",
        "      <td> 123055</td>\n",
        "      <td> 1999</td>\n",
        "      <td> 1</td>\n",
        "      <td> 1</td>\n",
        "      <td> Alabama</td>\n",
        "      <td> Autauga</td>\n",
        "      <td> 1</td>\n",
        "      <td> 1</td>\n",
        "    </tr>\n",
        "  </tbody>\n",
        "</table>\n",
        "</div>"
       ],
       "metadata": {},
       "output_type": "pyout",
       "prompt_number": 70,
       "text": [
        "       id  year  fipsst  fipsco    State County Name  FIPS State  FIPS County\n",
        "0  123054  1999       1       1  Alabama     Autauga           1            1\n",
        "1  123055  1999       1       1  Alabama     Autauga           1            1"
       ]
      }
     ],
     "prompt_number": 70
    },
    {
     "cell_type": "code",
     "collapsed": false,
     "input": [
      "pl3.info()"
     ],
     "language": "python",
     "metadata": {},
     "outputs": [
      {
       "output_type": "stream",
       "stream": "stdout",
       "text": [
        "<class 'pandas.core.frame.DataFrame'>\n",
        "Int64Index: 307738 entries, 0 to 307737\n",
        "Data columns (total 8 columns):\n",
        "id             307698  non-null values\n",
        "year           307698  non-null values\n",
        "fipsst         307698  non-null values\n",
        "fipsco         307698  non-null values\n",
        "State          307738  non-null values\n",
        "County Name    307738  non-null values\n",
        "FIPS State     307738  non-null values\n",
        "FIPS County    307738  non-null values\n",
        "dtypes: float64(4), int64(2), object(2)"
       ]
      }
     ],
     "prompt_number": 71
    },
    {
     "cell_type": "markdown",
     "metadata": {},
     "source": [
      "There are 40 counties from the FIPS 6-4 code set where we have no data.  This is over all the years of the surveys; within a year there may be more limited coverage."
     ]
    },
    {
     "cell_type": "code",
     "collapsed": false,
     "input": [
      "pl4 = pl3[pl3.id.isnull()].groupby(['State','County Name'])\n",
      "print len(pl4), 'counties with no data out of', len(fips), '(%.02f%%)'%(100.0*len(pl4)/len(fips))\n",
      "pl4.head(400)"
     ],
     "language": "python",
     "metadata": {},
     "outputs": [
      {
       "output_type": "stream",
       "stream": "stdout",
       "text": [
        "40 counties with no data out of 3142 (1.27%)\n"
       ]
      },
      {
       "html": [
        "<div style=\"max-height:1000px;max-width:1500px;overflow:auto;\">\n",
        "<table border=\"1\" class=\"dataframe\">\n",
        "  <thead>\n",
        "    <tr style=\"text-align: right;\">\n",
        "      <th></th>\n",
        "      <th></th>\n",
        "      <th></th>\n",
        "      <th>id</th>\n",
        "      <th>year</th>\n",
        "      <th>fipsst</th>\n",
        "      <th>fipsco</th>\n",
        "      <th>State</th>\n",
        "      <th>County Name</th>\n",
        "      <th>FIPS State</th>\n",
        "      <th>FIPS County</th>\n",
        "    </tr>\n",
        "    <tr>\n",
        "      <th>State</th>\n",
        "      <th>County Name</th>\n",
        "      <th></th>\n",
        "      <th></th>\n",
        "      <th></th>\n",
        "      <th></th>\n",
        "      <th></th>\n",
        "      <th></th>\n",
        "      <th></th>\n",
        "      <th></th>\n",
        "      <th></th>\n",
        "    </tr>\n",
        "  </thead>\n",
        "  <tbody>\n",
        "    <tr>\n",
        "      <th rowspan=\"12\" valign=\"top\">Alaska</th>\n",
        "      <th>Aleutians East</th>\n",
        "      <th>307698</th>\n",
        "      <td>NaN</td>\n",
        "      <td>NaN</td>\n",
        "      <td>NaN</td>\n",
        "      <td>NaN</td>\n",
        "      <td>               Alaska</td>\n",
        "      <td>        Aleutians East</td>\n",
        "      <td>  2</td>\n",
        "      <td>  13</td>\n",
        "    </tr>\n",
        "    <tr>\n",
        "      <th>Aleutians West</th>\n",
        "      <th>307699</th>\n",
        "      <td>NaN</td>\n",
        "      <td>NaN</td>\n",
        "      <td>NaN</td>\n",
        "      <td>NaN</td>\n",
        "      <td>               Alaska</td>\n",
        "      <td>        Aleutians West</td>\n",
        "      <td>  2</td>\n",
        "      <td>  16</td>\n",
        "    </tr>\n",
        "    <tr>\n",
        "      <th>Bristol Bay</th>\n",
        "      <th>307700</th>\n",
        "      <td>NaN</td>\n",
        "      <td>NaN</td>\n",
        "      <td>NaN</td>\n",
        "      <td>NaN</td>\n",
        "      <td>               Alaska</td>\n",
        "      <td>           Bristol Bay</td>\n",
        "      <td>  2</td>\n",
        "      <td>  60</td>\n",
        "    </tr>\n",
        "    <tr>\n",
        "      <th>Dillingham</th>\n",
        "      <th>307701</th>\n",
        "      <td>NaN</td>\n",
        "      <td>NaN</td>\n",
        "      <td>NaN</td>\n",
        "      <td>NaN</td>\n",
        "      <td>               Alaska</td>\n",
        "      <td>            Dillingham</td>\n",
        "      <td>  2</td>\n",
        "      <td>  70</td>\n",
        "    </tr>\n",
        "    <tr>\n",
        "      <th>Haines</th>\n",
        "      <th>307702</th>\n",
        "      <td>NaN</td>\n",
        "      <td>NaN</td>\n",
        "      <td>NaN</td>\n",
        "      <td>NaN</td>\n",
        "      <td>               Alaska</td>\n",
        "      <td>                Haines</td>\n",
        "      <td>  2</td>\n",
        "      <td> 100</td>\n",
        "    </tr>\n",
        "    <tr>\n",
        "      <th>Lake and Peninsula</th>\n",
        "      <th>307703</th>\n",
        "      <td>NaN</td>\n",
        "      <td>NaN</td>\n",
        "      <td>NaN</td>\n",
        "      <td>NaN</td>\n",
        "      <td>               Alaska</td>\n",
        "      <td>    Lake and Peninsula</td>\n",
        "      <td>  2</td>\n",
        "      <td> 164</td>\n",
        "    </tr>\n",
        "    <tr>\n",
        "      <th>North Slope</th>\n",
        "      <th>307704</th>\n",
        "      <td>NaN</td>\n",
        "      <td>NaN</td>\n",
        "      <td>NaN</td>\n",
        "      <td>NaN</td>\n",
        "      <td>               Alaska</td>\n",
        "      <td>           North Slope</td>\n",
        "      <td>  2</td>\n",
        "      <td> 185</td>\n",
        "    </tr>\n",
        "    <tr>\n",
        "      <th>Sitka</th>\n",
        "      <th>307705</th>\n",
        "      <td>NaN</td>\n",
        "      <td>NaN</td>\n",
        "      <td>NaN</td>\n",
        "      <td>NaN</td>\n",
        "      <td>               Alaska</td>\n",
        "      <td>                 Sitka</td>\n",
        "      <td>  2</td>\n",
        "      <td> 220</td>\n",
        "    </tr>\n",
        "    <tr>\n",
        "      <th>Skagway Hoonah Angoon</th>\n",
        "      <th>307706</th>\n",
        "      <td>NaN</td>\n",
        "      <td>NaN</td>\n",
        "      <td>NaN</td>\n",
        "      <td>NaN</td>\n",
        "      <td>               Alaska</td>\n",
        "      <td> Skagway Hoonah Angoon</td>\n",
        "      <td>  2</td>\n",
        "      <td> 232</td>\n",
        "    </tr>\n",
        "    <tr>\n",
        "      <th>Wrangell Petersburg</th>\n",
        "      <th>307707</th>\n",
        "      <td>NaN</td>\n",
        "      <td>NaN</td>\n",
        "      <td>NaN</td>\n",
        "      <td>NaN</td>\n",
        "      <td>               Alaska</td>\n",
        "      <td>   Wrangell Petersburg</td>\n",
        "      <td>  2</td>\n",
        "      <td> 280</td>\n",
        "    </tr>\n",
        "    <tr>\n",
        "      <th>Yakutat</th>\n",
        "      <th>307708</th>\n",
        "      <td>NaN</td>\n",
        "      <td>NaN</td>\n",
        "      <td>NaN</td>\n",
        "      <td>NaN</td>\n",
        "      <td>               Alaska</td>\n",
        "      <td>               Yakutat</td>\n",
        "      <td>  2</td>\n",
        "      <td> 282</td>\n",
        "    </tr>\n",
        "    <tr>\n",
        "      <th>Yukon Koyukuk</th>\n",
        "      <th>307709</th>\n",
        "      <td>NaN</td>\n",
        "      <td>NaN</td>\n",
        "      <td>NaN</td>\n",
        "      <td>NaN</td>\n",
        "      <td>               Alaska</td>\n",
        "      <td>         Yukon Koyukuk</td>\n",
        "      <td>  2</td>\n",
        "      <td> 290</td>\n",
        "    </tr>\n",
        "    <tr>\n",
        "      <th>Colorado</th>\n",
        "      <th>Mineral</th>\n",
        "      <th>307710</th>\n",
        "      <td>NaN</td>\n",
        "      <td>NaN</td>\n",
        "      <td>NaN</td>\n",
        "      <td>NaN</td>\n",
        "      <td>             Colorado</td>\n",
        "      <td>               Mineral</td>\n",
        "      <td>  8</td>\n",
        "      <td>  79</td>\n",
        "    </tr>\n",
        "    <tr>\n",
        "      <th>District of Columbia</th>\n",
        "      <th>Montgomery</th>\n",
        "      <th>307711</th>\n",
        "      <td>NaN</td>\n",
        "      <td>NaN</td>\n",
        "      <td>NaN</td>\n",
        "      <td>NaN</td>\n",
        "      <td> District of Columbia</td>\n",
        "      <td>            Montgomery</td>\n",
        "      <td> 11</td>\n",
        "      <td>  31</td>\n",
        "    </tr>\n",
        "    <tr>\n",
        "      <th>Kansas</th>\n",
        "      <th>Kearny</th>\n",
        "      <th>307712</th>\n",
        "      <td>NaN</td>\n",
        "      <td>NaN</td>\n",
        "      <td>NaN</td>\n",
        "      <td>NaN</td>\n",
        "      <td>               Kansas</td>\n",
        "      <td>                Kearny</td>\n",
        "      <td> 20</td>\n",
        "      <td>  93</td>\n",
        "    </tr>\n",
        "    <tr>\n",
        "      <th rowspan=\"5\" valign=\"top\">Nebraska</th>\n",
        "      <th>Arthur</th>\n",
        "      <th>307713</th>\n",
        "      <td>NaN</td>\n",
        "      <td>NaN</td>\n",
        "      <td>NaN</td>\n",
        "      <td>NaN</td>\n",
        "      <td>             Nebraska</td>\n",
        "      <td>                Arthur</td>\n",
        "      <td> 31</td>\n",
        "      <td>   5</td>\n",
        "    </tr>\n",
        "    <tr>\n",
        "      <th>Banner</th>\n",
        "      <th>307714</th>\n",
        "      <td>NaN</td>\n",
        "      <td>NaN</td>\n",
        "      <td>NaN</td>\n",
        "      <td>NaN</td>\n",
        "      <td>             Nebraska</td>\n",
        "      <td>                Banner</td>\n",
        "      <td> 31</td>\n",
        "      <td>   7</td>\n",
        "    </tr>\n",
        "    <tr>\n",
        "      <th>Garden</th>\n",
        "      <th>307715</th>\n",
        "      <td>NaN</td>\n",
        "      <td>NaN</td>\n",
        "      <td>NaN</td>\n",
        "      <td>NaN</td>\n",
        "      <td>             Nebraska</td>\n",
        "      <td>                Garden</td>\n",
        "      <td> 31</td>\n",
        "      <td>  69</td>\n",
        "    </tr>\n",
        "    <tr>\n",
        "      <th>Loup</th>\n",
        "      <th>307716</th>\n",
        "      <td>NaN</td>\n",
        "      <td>NaN</td>\n",
        "      <td>NaN</td>\n",
        "      <td>NaN</td>\n",
        "      <td>             Nebraska</td>\n",
        "      <td>                  Loup</td>\n",
        "      <td> 31</td>\n",
        "      <td> 115</td>\n",
        "    </tr>\n",
        "    <tr>\n",
        "      <th>Nuckolls</th>\n",
        "      <th>307717</th>\n",
        "      <td>NaN</td>\n",
        "      <td>NaN</td>\n",
        "      <td>NaN</td>\n",
        "      <td>NaN</td>\n",
        "      <td>             Nebraska</td>\n",
        "      <td>              Nuckolls</td>\n",
        "      <td> 31</td>\n",
        "      <td> 129</td>\n",
        "    </tr>\n",
        "    <tr>\n",
        "      <th>New Mexico</th>\n",
        "      <th>Harding</th>\n",
        "      <th>307718</th>\n",
        "      <td>NaN</td>\n",
        "      <td>NaN</td>\n",
        "      <td>NaN</td>\n",
        "      <td>NaN</td>\n",
        "      <td>           New Mexico</td>\n",
        "      <td>               Harding</td>\n",
        "      <td> 35</td>\n",
        "      <td>  21</td>\n",
        "    </tr>\n",
        "    <tr>\n",
        "      <th rowspan=\"2\" valign=\"top\">North Dakota</th>\n",
        "      <th>Billings</th>\n",
        "      <th>307719</th>\n",
        "      <td>NaN</td>\n",
        "      <td>NaN</td>\n",
        "      <td>NaN</td>\n",
        "      <td>NaN</td>\n",
        "      <td>         North Dakota</td>\n",
        "      <td>              Billings</td>\n",
        "      <td> 38</td>\n",
        "      <td>   7</td>\n",
        "    </tr>\n",
        "    <tr>\n",
        "      <th>Burke</th>\n",
        "      <th>307720</th>\n",
        "      <td>NaN</td>\n",
        "      <td>NaN</td>\n",
        "      <td>NaN</td>\n",
        "      <td>NaN</td>\n",
        "      <td>         North Dakota</td>\n",
        "      <td>                 Burke</td>\n",
        "      <td> 38</td>\n",
        "      <td>  13</td>\n",
        "    </tr>\n",
        "    <tr>\n",
        "      <th rowspan=\"3\" valign=\"top\">South Dakota</th>\n",
        "      <th>Buffalo</th>\n",
        "      <th>307721</th>\n",
        "      <td>NaN</td>\n",
        "      <td>NaN</td>\n",
        "      <td>NaN</td>\n",
        "      <td>NaN</td>\n",
        "      <td>         South Dakota</td>\n",
        "      <td>               Buffalo</td>\n",
        "      <td> 46</td>\n",
        "      <td>  17</td>\n",
        "    </tr>\n",
        "    <tr>\n",
        "      <th>Campbell</th>\n",
        "      <th>307722</th>\n",
        "      <td>NaN</td>\n",
        "      <td>NaN</td>\n",
        "      <td>NaN</td>\n",
        "      <td>NaN</td>\n",
        "      <td>         South Dakota</td>\n",
        "      <td>              Campbell</td>\n",
        "      <td> 46</td>\n",
        "      <td>  21</td>\n",
        "    </tr>\n",
        "    <tr>\n",
        "      <th>Jones</th>\n",
        "      <th>307723</th>\n",
        "      <td>NaN</td>\n",
        "      <td>NaN</td>\n",
        "      <td>NaN</td>\n",
        "      <td>NaN</td>\n",
        "      <td>         South Dakota</td>\n",
        "      <td>                 Jones</td>\n",
        "      <td> 46</td>\n",
        "      <td>  75</td>\n",
        "    </tr>\n",
        "    <tr>\n",
        "      <th rowspan=\"12\" valign=\"top\">Texas</th>\n",
        "      <th>Borden</th>\n",
        "      <th>307724</th>\n",
        "      <td>NaN</td>\n",
        "      <td>NaN</td>\n",
        "      <td>NaN</td>\n",
        "      <td>NaN</td>\n",
        "      <td>                Texas</td>\n",
        "      <td>                Borden</td>\n",
        "      <td> 48</td>\n",
        "      <td>  33</td>\n",
        "    </tr>\n",
        "    <tr>\n",
        "      <th>Briscoe</th>\n",
        "      <th>307725</th>\n",
        "      <td>NaN</td>\n",
        "      <td>NaN</td>\n",
        "      <td>NaN</td>\n",
        "      <td>NaN</td>\n",
        "      <td>                Texas</td>\n",
        "      <td>               Briscoe</td>\n",
        "      <td> 48</td>\n",
        "      <td>  45</td>\n",
        "    </tr>\n",
        "    <tr>\n",
        "      <th>Culberson</th>\n",
        "      <th>307726</th>\n",
        "      <td>NaN</td>\n",
        "      <td>NaN</td>\n",
        "      <td>NaN</td>\n",
        "      <td>NaN</td>\n",
        "      <td>                Texas</td>\n",
        "      <td>             Culberson</td>\n",
        "      <td> 48</td>\n",
        "      <td> 109</td>\n",
        "    </tr>\n",
        "    <tr>\n",
        "      <th>Kenedy</th>\n",
        "      <th>307727</th>\n",
        "      <td>NaN</td>\n",
        "      <td>NaN</td>\n",
        "      <td>NaN</td>\n",
        "      <td>NaN</td>\n",
        "      <td>                Texas</td>\n",
        "      <td>                Kenedy</td>\n",
        "      <td> 48</td>\n",
        "      <td> 261</td>\n",
        "    </tr>\n",
        "    <tr>\n",
        "      <th>Kent</th>\n",
        "      <th>307728</th>\n",
        "      <td>NaN</td>\n",
        "      <td>NaN</td>\n",
        "      <td>NaN</td>\n",
        "      <td>NaN</td>\n",
        "      <td>                Texas</td>\n",
        "      <td>                  Kent</td>\n",
        "      <td> 48</td>\n",
        "      <td> 263</td>\n",
        "    </tr>\n",
        "    <tr>\n",
        "      <th>King</th>\n",
        "      <th>307729</th>\n",
        "      <td>NaN</td>\n",
        "      <td>NaN</td>\n",
        "      <td>NaN</td>\n",
        "      <td>NaN</td>\n",
        "      <td>                Texas</td>\n",
        "      <td>                  King</td>\n",
        "      <td> 48</td>\n",
        "      <td> 269</td>\n",
        "    </tr>\n",
        "    <tr>\n",
        "      <th>Loving</th>\n",
        "      <th>307730</th>\n",
        "      <td>NaN</td>\n",
        "      <td>NaN</td>\n",
        "      <td>NaN</td>\n",
        "      <td>NaN</td>\n",
        "      <td>                Texas</td>\n",
        "      <td>                Loving</td>\n",
        "      <td> 48</td>\n",
        "      <td> 301</td>\n",
        "    </tr>\n",
        "    <tr>\n",
        "      <th>McMullen</th>\n",
        "      <th>307731</th>\n",
        "      <td>NaN</td>\n",
        "      <td>NaN</td>\n",
        "      <td>NaN</td>\n",
        "      <td>NaN</td>\n",
        "      <td>                Texas</td>\n",
        "      <td>              McMullen</td>\n",
        "      <td> 48</td>\n",
        "      <td> 311</td>\n",
        "    </tr>\n",
        "    <tr>\n",
        "      <th>Motley</th>\n",
        "      <th>307732</th>\n",
        "      <td>NaN</td>\n",
        "      <td>NaN</td>\n",
        "      <td>NaN</td>\n",
        "      <td>NaN</td>\n",
        "      <td>                Texas</td>\n",
        "      <td>                Motley</td>\n",
        "      <td> 48</td>\n",
        "      <td> 345</td>\n",
        "    </tr>\n",
        "    <tr>\n",
        "      <th>Oldham</th>\n",
        "      <th>307733</th>\n",
        "      <td>NaN</td>\n",
        "      <td>NaN</td>\n",
        "      <td>NaN</td>\n",
        "      <td>NaN</td>\n",
        "      <td>                Texas</td>\n",
        "      <td>                Oldham</td>\n",
        "      <td> 48</td>\n",
        "      <td> 359</td>\n",
        "    </tr>\n",
        "    <tr>\n",
        "      <th>Reagan</th>\n",
        "      <th>307734</th>\n",
        "      <td>NaN</td>\n",
        "      <td>NaN</td>\n",
        "      <td>NaN</td>\n",
        "      <td>NaN</td>\n",
        "      <td>                Texas</td>\n",
        "      <td>                Reagan</td>\n",
        "      <td> 48</td>\n",
        "      <td> 383</td>\n",
        "    </tr>\n",
        "    <tr>\n",
        "      <th>Throckmorton</th>\n",
        "      <th>307735</th>\n",
        "      <td>NaN</td>\n",
        "      <td>NaN</td>\n",
        "      <td>NaN</td>\n",
        "      <td>NaN</td>\n",
        "      <td>                Texas</td>\n",
        "      <td>          Throckmorton</td>\n",
        "      <td> 48</td>\n",
        "      <td> 447</td>\n",
        "    </tr>\n",
        "    <tr>\n",
        "      <th rowspan=\"2\" valign=\"top\">Virginia</th>\n",
        "      <th>Manassas Park City</th>\n",
        "      <th>307736</th>\n",
        "      <td>NaN</td>\n",
        "      <td>NaN</td>\n",
        "      <td>NaN</td>\n",
        "      <td>NaN</td>\n",
        "      <td>             Virginia</td>\n",
        "      <td>    Manassas Park City</td>\n",
        "      <td> 51</td>\n",
        "      <td> 685</td>\n",
        "    </tr>\n",
        "    <tr>\n",
        "      <th>South Boston City</th>\n",
        "      <th>307737</th>\n",
        "      <td>NaN</td>\n",
        "      <td>NaN</td>\n",
        "      <td>NaN</td>\n",
        "      <td>NaN</td>\n",
        "      <td>             Virginia</td>\n",
        "      <td>     South Boston City</td>\n",
        "      <td> 51</td>\n",
        "      <td> 780</td>\n",
        "    </tr>\n",
        "  </tbody>\n",
        "</table>\n",
        "</div>"
       ],
       "metadata": {},
       "output_type": "pyout",
       "prompt_number": 72,
       "text": [
        "<class 'pandas.core.frame.DataFrame'>\n",
        "MultiIndex: 40 entries, (Alaska, Aleutians East, 307698) to (Virginia, South Boston City, 307737)\n",
        "Data columns (total 8 columns):\n",
        "id             0  non-null values\n",
        "year           0  non-null values\n",
        "fipsst         0  non-null values\n",
        "fipsco         0  non-null values\n",
        "State          40  non-null values\n",
        "County Name    40  non-null values\n",
        "FIPS State     40  non-null values\n",
        "FIPS County    40  non-null values\n",
        "dtypes: float64(4), int64(2), object(2)"
       ]
      }
     ],
     "prompt_number": 72
    },
    {
     "cell_type": "markdown",
     "metadata": {},
     "source": [
      "### Politics"
     ]
    },
    {
     "cell_type": "code",
     "collapsed": false,
     "input": [
      "pew.party.value_counts()"
     ],
     "language": "python",
     "metadata": {},
     "outputs": [
      {
       "metadata": {},
       "output_type": "pyout",
       "prompt_number": 74,
       "text": [
        "Independent      140659\n",
        "Democrat         140233\n",
        "Republican       127981\n",
        "No Preference     14636\n",
        "DK                11067\n",
        "Other              2312\n",
        "dtype: int64"
       ]
      }
     ],
     "prompt_number": 74
    },
    {
     "cell_type": "code",
     "collapsed": false,
     "input": [
      "pew.partyln.value_counts()"
     ],
     "language": "python",
     "metadata": {},
     "outputs": [
      {
       "metadata": {},
       "output_type": "pyout",
       "prompt_number": 76,
       "text": [
        "Missing/not asked    262804\n",
        "Lean Democrat         59109\n",
        "Lean Republican       55178\n",
        "Other/DK              51246\n",
        "dtype: int64"
       ]
      }
     ],
     "prompt_number": 76
    },
    {
     "cell_type": "code",
     "collapsed": false,
     "input": [
      "pd.crosstab(pew.party, pew.partyln, dropna=False, margins=True)"
     ],
     "language": "python",
     "metadata": {},
     "outputs": [
      {
       "html": [
        "<div style=\"max-height:1000px;max-width:1500px;overflow:auto;\">\n",
        "<table border=\"1\" class=\"dataframe\">\n",
        "  <thead>\n",
        "    <tr style=\"text-align: right;\">\n",
        "      <th>partyln</th>\n",
        "      <th>Lean Democrat</th>\n",
        "      <th>Lean Republican</th>\n",
        "      <th>Missing/not asked</th>\n",
        "      <th>Other/DK</th>\n",
        "      <th>All</th>\n",
        "    </tr>\n",
        "    <tr>\n",
        "      <th>party</th>\n",
        "      <th></th>\n",
        "      <th></th>\n",
        "      <th></th>\n",
        "      <th></th>\n",
        "      <th></th>\n",
        "    </tr>\n",
        "  </thead>\n",
        "  <tbody>\n",
        "    <tr>\n",
        "      <th>DK</th>\n",
        "      <td>  1563</td>\n",
        "      <td>  1523</td>\n",
        "      <td>      1</td>\n",
        "      <td>  7664</td>\n",
        "      <td>  11067</td>\n",
        "    </tr>\n",
        "    <tr>\n",
        "      <th>Democrat</th>\n",
        "      <td>     0</td>\n",
        "      <td>     0</td>\n",
        "      <td> 137482</td>\n",
        "      <td>     2</td>\n",
        "      <td> 140233</td>\n",
        "    </tr>\n",
        "    <tr>\n",
        "      <th>Independent</th>\n",
        "      <td> 53822</td>\n",
        "      <td> 49657</td>\n",
        "      <td>     22</td>\n",
        "      <td> 34719</td>\n",
        "      <td> 140659</td>\n",
        "    </tr>\n",
        "    <tr>\n",
        "      <th>No Preference</th>\n",
        "      <td>  3255</td>\n",
        "      <td>  3314</td>\n",
        "      <td>     14</td>\n",
        "      <td>  8053</td>\n",
        "      <td>  14636</td>\n",
        "    </tr>\n",
        "    <tr>\n",
        "      <th>Other</th>\n",
        "      <td>   469</td>\n",
        "      <td>   684</td>\n",
        "      <td>    138</td>\n",
        "      <td>   808</td>\n",
        "      <td>   2312</td>\n",
        "    </tr>\n",
        "    <tr>\n",
        "      <th>Republican</th>\n",
        "      <td>     0</td>\n",
        "      <td>     0</td>\n",
        "      <td> 125146</td>\n",
        "      <td>     0</td>\n",
        "      <td> 127981</td>\n",
        "    </tr>\n",
        "    <tr>\n",
        "      <th>All</th>\n",
        "      <td> 59109</td>\n",
        "      <td> 55178</td>\n",
        "      <td> 262804</td>\n",
        "      <td> 51246</td>\n",
        "      <td> 442262</td>\n",
        "    </tr>\n",
        "  </tbody>\n",
        "</table>\n",
        "</div>"
       ],
       "metadata": {},
       "output_type": "pyout",
       "prompt_number": 80,
       "text": [
        "partyln        Lean Democrat  Lean Republican  Missing/not asked  Other/DK     All\n",
        "party                                                                             \n",
        "DK                      1563             1523                  1      7664   11067\n",
        "Democrat                   0                0             137482         2  140233\n",
        "Independent            53822            49657                 22     34719  140659\n",
        "No Preference           3255             3314                 14      8053   14636\n",
        "Other                    469              684                138       808    2312\n",
        "Republican                 0                0             125146         0  127981\n",
        "All                    59109            55178             262804     51246  442262"
       ]
      }
     ],
     "prompt_number": 80
    },
    {
     "cell_type": "code",
     "collapsed": false,
     "input": [
      "print len(pew)\n",
      "print len(pew[pew.party.notnull()])\n",
      "print len(pew[pew.partyln.notnull()])\n",
      "print len(pew[(pew.party.notnull()) & (pew.partyln.isnull())])\n",
      "print len(pew[(pew.partyln.notnull()) & (pew.party.isnull())])"
     ],
     "language": "python",
     "metadata": {},
     "outputs": [
      {
       "output_type": "stream",
       "stream": "stdout",
       "text": [
        "442262\n",
        "436888"
       ]
      },
      {
       "output_type": "stream",
       "stream": "stdout",
       "text": [
        "\n",
        "428337"
       ]
      },
      {
       "output_type": "stream",
       "stream": "stdout",
       "text": [
        "\n",
        "8552"
       ]
      },
      {
       "output_type": "stream",
       "stream": "stdout",
       "text": [
        "\n",
        "1"
       ]
      },
      {
       "output_type": "stream",
       "stream": "stdout",
       "text": [
        "\n"
       ]
      }
     ],
     "prompt_number": 82
    },
    {
     "cell_type": "code",
     "collapsed": false,
     "input": [
      "pew[pew.party.notnull()].year.hist()"
     ],
     "language": "python",
     "metadata": {},
     "outputs": [
      {
       "metadata": {},
       "output_type": "pyout",
       "prompt_number": 78,
       "text": [
        "<matplotlib.axes.AxesSubplot at 0x6c4cc90>"
       ]
      },
      {
       "metadata": {},
       "output_type": "display_data",
       "png": "[encoded data removed]",
       "text": [
        "<matplotlib.figure.Figure at 0x746c470>"
       ]
      }
     ],
     "prompt_number": 78
    },
    {
     "cell_type": "code",
     "collapsed": false,
     "input": [
      "pew[pew.partyln.notnull()].year.hist()"
     ],
     "language": "python",
     "metadata": {},
     "outputs": [
      {
       "metadata": {},
       "output_type": "pyout",
       "prompt_number": 79,
       "text": [
        "<matplotlib.axes.AxesSubplot at 0x725a770>"
       ]
      },
      {
       "metadata": {},
       "output_type": "display_data",
       "png": "[encoded data removed]",
       "text": [
        "<matplotlib.figure.Figure at 0x72617f0>"
       ]
      }
     ],
     "prompt_number": 79
    },
    {
     "cell_type": "markdown",
     "metadata": {},
     "source": [
      "Fairly well balanced between those leaning Dem and those leaning Rep."
     ]
    },
    {
     "cell_type": "code",
     "collapsed": false,
     "input": [
      "pew.partysum.value_counts()"
     ],
     "language": "python",
     "metadata": {},
     "outputs": [
      {
       "output_type": "pyout",
       "prompt_number": 58,
       "text": [
        "Dem/ln D                          199342\n",
        "Rep/ln R                          183159\n",
        "No leaning                         54387\n",
        "Party or Partyln not available      5374"
       ]
      }
     ],
     "prompt_number": 58
    },
    {
     "cell_type": "markdown",
     "metadata": {},
     "source": [
      "All are registered voters?"
     ]
    },
    {
     "cell_type": "code",
     "collapsed": false,
     "input": [
      "pew.regvoter.value_counts()"
     ],
     "language": "python",
     "metadata": {},
     "outputs": [
      {
       "output_type": "pyout",
       "prompt_number": 59,
       "text": [
        "1    305512"
       ]
      }
     ],
     "prompt_number": 59
    },
    {
     "cell_type": "code",
     "collapsed": false,
     "input": [
      "print len(pew.regvoter)\n",
      "print len(pew[pew.regvoter.isnull()])"
     ],
     "language": "python",
     "metadata": {},
     "outputs": [
      {
       "output_type": "stream",
       "stream": "stdout",
       "text": [
        "442262\n",
        "136750"
       ]
      },
      {
       "output_type": "stream",
       "stream": "stdout",
       "text": []
      }
     ],
     "prompt_number": 60
    },
    {
     "cell_type": "markdown",
     "metadata": {},
     "source": [
      "The number of responses with *regvoter* seems to be increasing over the years compared to the number with *regvoter* missing."
     ]
    },
    {
     "cell_type": "code",
     "collapsed": false,
     "input": [
      "pew[pew.regvoter.isnull()].year.hist(bins=20)"
     ],
     "language": "python",
     "metadata": {},
     "outputs": [
      {
       "output_type": "pyout",
       "prompt_number": 61,
       "text": [
        "<matplotlib.axes.AxesSubplot at 0x6c50910>"
       ]
      },
      {
       "output_type": "display_data",
       "png": "[encoded data removed]"
      }
     ],
     "prompt_number": 61
    },
    {
     "cell_type": "code",
     "collapsed": false,
     "input": [
      "pew[pew.regvoter.notnull()].year.hist(bins=20)"
     ],
     "language": "python",
     "metadata": {},
     "outputs": [
      {
       "output_type": "pyout",
       "prompt_number": 62,
       "text": [
        "<matplotlib.axes.AxesSubplot at 0x6b81710>"
       ]
      },
      {
       "output_type": "display_data",
       "png": "[encoded data removed]"
      }
     ],
     "prompt_number": 62
    },
    {
     "cell_type": "markdown",
     "metadata": {},
     "source": [
      "## Write to CSV"
     ]
    },
    {
     "cell_type": "code",
     "collapsed": false,
     "input": [
      "#%time pew.to_csv('data/Pew_for_analysis.csv', index=False)"
     ],
     "language": "python",
     "metadata": {},
     "outputs": [],
     "prompt_number": 63
    }
   ],
   "metadata": {}
  }
 ]
}