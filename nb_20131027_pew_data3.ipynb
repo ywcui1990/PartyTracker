{
 "metadata": {
  "name": ""
 },
 "nbformat": 3,
 "nbformat_minor": 0,
 "worksheets": [
  {
   "cells": [
    {
     "cell_type": "markdown",
     "metadata": {},
     "source": [
      "# Analyze the Pew.txt file: specific questions"
     ]
    },
    {
     "cell_type": "markdown",
     "metadata": {},
     "source": [
      "Try to answer specific questions using the Pew data."
     ]
    },
    {
     "cell_type": "code",
     "collapsed": false,
     "input": [
      "import pandas as pd\n",
      "%load_ext autoreload\n",
      "%autoreload 2\n",
      "from pew_data_analysis import *\n",
      "pd.set_printoptions(max_columns=0, max_rows=1000)\n",
      "import statsmodels\n",
      "from ggplot import *"
     ],
     "language": "python",
     "metadata": {},
     "outputs": [
      {
       "output_type": "stream",
       "stream": "stdout",
       "text": [
        "The autoreload extension is already loaded. To reload it, use:\n",
        "  %reload_ext autoreload\n"
       ]
      }
     ],
     "prompt_number": 2
    },
    {
     "cell_type": "code",
     "collapsed": false,
     "input": [
      "%time pew = read_pew_txt('data/Pew.txt','data/Merge_Codebook.csv','data/US_FIPS_Codes.csv')"
     ],
     "language": "python",
     "metadata": {},
     "outputs": [
      {
       "output_type": "stream",
       "stream": "stdout",
       "text": [
        "CPU times: user 13.6 s, sys: 1.7 s, total: 15.3 s\n",
        "Wall time: 15.3 s\n"
       ]
      }
     ],
     "prompt_number": 3
    },
    {
     "cell_type": "code",
     "collapsed": false,
     "input": [
      "pew.head(2)"
     ],
     "language": "python",
     "metadata": {},
     "outputs": [
      {
       "html": [
        "<div style=\"max-height:1000px;max-width:1500px;overflow:auto;\">\n",
        "<table border=\"1\" class=\"dataframe\">\n",
        "  <thead>\n",
        "    <tr style=\"text-align: right;\">\n",
        "      <th></th>\n",
        "      <th>id</th>\n",
        "      <th>rid</th>\n",
        "      <th>weight</th>\n",
        "      <th>year</th>\n",
        "      <th>date</th>\n",
        "      <th>survey</th>\n",
        "      <th>language</th>\n",
        "      <th>age</th>\n",
        "      <th>age2</th>\n",
        "      <th>sex</th>\n",
        "      <th>race</th>\n",
        "      <th>racethn</th>\n",
        "      <th>hisp</th>\n",
        "      <th>income</th>\n",
        "      <th>income2</th>\n",
        "      <th>educ</th>\n",
        "      <th>fipsst</th>\n",
        "      <th>state_name</th>\n",
        "      <th>fipsco</th>\n",
        "      <th>county_name</th>\n",
        "      <th>usr</th>\n",
        "      <th>density</th>\n",
        "      <th>partyln</th>\n",
        "      <th>party</th>\n",
        "      <th>partysum</th>\n",
        "      <th>regvoter</th>\n",
        "    </tr>\n",
        "  </thead>\n",
        "  <tbody>\n",
        "    <tr>\n",
        "      <th>0    </th>\n",
        "      <td> 1</td>\n",
        "      <td> 1</td>\n",
        "      <td> 0.941828</td>\n",
        "      <td> 1990</td>\n",
        "      <td>NaN</td>\n",
        "      <td> Jan90NII</td>\n",
        "      <td> English only</td>\n",
        "      <td> 46</td>\n",
        "      <td> 30-49</td>\n",
        "      <td> Female</td>\n",
        "      <td> White</td>\n",
        "      <td> NaN</td>\n",
        "      <td> NaN</td>\n",
        "      <td> NaN</td>\n",
        "      <td> Missing\\not asked</td>\n",
        "      <td>      College graduate</td>\n",
        "      <td> 26</td>\n",
        "      <td> Michigan</td>\n",
        "      <td>NaN</td>\n",
        "      <td> NaN</td>\n",
        "      <td> NaN</td>\n",
        "      <td>NaN</td>\n",
        "      <td> NaN</td>\n",
        "      <td> Independent</td>\n",
        "      <td> No leaning</td>\n",
        "      <td>NaN</td>\n",
        "    </tr>\n",
        "    <tr>\n",
        "      <th>91640</th>\n",
        "      <td> 2</td>\n",
        "      <td> 2</td>\n",
        "      <td> 1.465066</td>\n",
        "      <td> 1990</td>\n",
        "      <td>NaN</td>\n",
        "      <td> Jan90NII</td>\n",
        "      <td> English only</td>\n",
        "      <td> 77</td>\n",
        "      <td>   65+</td>\n",
        "      <td>   Male</td>\n",
        "      <td> White</td>\n",
        "      <td> NaN</td>\n",
        "      <td> NaN</td>\n",
        "      <td> NaN</td>\n",
        "      <td> Missing\\not asked</td>\n",
        "      <td> Less than high school</td>\n",
        "      <td> 36</td>\n",
        "      <td> New York</td>\n",
        "      <td>NaN</td>\n",
        "      <td> NaN</td>\n",
        "      <td> NaN</td>\n",
        "      <td>NaN</td>\n",
        "      <td> NaN</td>\n",
        "      <td>  Republican</td>\n",
        "      <td>   Rep/ln R</td>\n",
        "      <td>NaN</td>\n",
        "    </tr>\n",
        "  </tbody>\n",
        "</table>\n",
        "</div>"
       ],
       "metadata": {},
       "output_type": "pyout",
       "prompt_number": 4,
       "text": [
        "<class 'pandas.core.frame.DataFrame'>\n",
        "Int64Index: 2 entries, 0 to 91640\n",
        "Data columns (total 26 columns):\n",
        "id             2  non-null values\n",
        "rid            2  non-null values\n",
        "weight         2  non-null values\n",
        "year           2  non-null values\n",
        "date           0  non-null values\n",
        "survey         2  non-null values\n",
        "language       2  non-null values\n",
        "age            2  non-null values\n",
        "age2           2  non-null values\n",
        "sex            2  non-null values\n",
        "race           2  non-null values\n",
        "racethn        0  non-null values\n",
        "hisp           0  non-null values\n",
        "income         0  non-null values\n",
        "income2        2  non-null values\n",
        "educ           2  non-null values\n",
        "fipsst         2  non-null values\n",
        "state_name     2  non-null values\n",
        "fipsco         0  non-null values\n",
        "county_name    0  non-null values\n",
        "usr            0  non-null values\n",
        "density        0  non-null values\n",
        "partyln        0  non-null values\n",
        "party          2  non-null values\n",
        "partysum       2  non-null values\n",
        "regvoter       0  non-null values\n",
        "dtypes: float64(7), int64(3), object(16)"
       ]
      }
     ],
     "prompt_number": 4
    },
    {
     "cell_type": "markdown",
     "metadata": {},
     "source": [
      "## Tracking a group"
     ]
    },
    {
     "cell_type": "markdown",
     "metadata": {},
     "source": [
      "Picking a group arbitrarily, let's see how ***republican women making at least $75k a year*** have changed over time in terms of **% below age 30** and **% urban**."
     ]
    },
    {
     "cell_type": "code",
     "collapsed": false,
     "input": [
      "trk = pew[(pew.party=='Republican') & (pew.sex=='Female') & (pew.income2=='$75,000+')][['id','weight','year','age2','usr']]\n",
      "trk.head(2)"
     ],
     "language": "python",
     "metadata": {},
     "outputs": [
      {
       "html": [
        "<div style=\"max-height:1000px;max-width:1500px;overflow:auto;\">\n",
        "<table border=\"1\" class=\"dataframe\">\n",
        "  <thead>\n",
        "    <tr style=\"text-align: right;\">\n",
        "      <th></th>\n",
        "      <th>id</th>\n",
        "      <th>weight</th>\n",
        "      <th>year</th>\n",
        "      <th>age2</th>\n",
        "      <th>usr</th>\n",
        "    </tr>\n",
        "  </thead>\n",
        "  <tbody>\n",
        "    <tr>\n",
        "      <th>10063 </th>\n",
        "      <td> 51988</td>\n",
        "      <td> 0.521003</td>\n",
        "      <td> 1994</td>\n",
        "      <td>   65+</td>\n",
        "      <td> NaN</td>\n",
        "    </tr>\n",
        "    <tr>\n",
        "      <th>140465</th>\n",
        "      <td> 52089</td>\n",
        "      <td> 1.218775</td>\n",
        "      <td> 1994</td>\n",
        "      <td> 18-29</td>\n",
        "      <td> NaN</td>\n",
        "    </tr>\n",
        "  </tbody>\n",
        "</table>\n",
        "</div>"
       ],
       "metadata": {},
       "output_type": "pyout",
       "prompt_number": 13,
       "text": [
        "           id    weight  year   age2  usr\n",
        "10063   51988  0.521003  1994    65+  NaN\n",
        "140465  52089  1.218775  1994  18-29  NaN"
       ]
      }
     ],
     "prompt_number": 13
    },
    {
     "cell_type": "markdown",
     "metadata": {},
     "source": [
      "Calculate percent below age 30."
     ]
    },
    {
     "cell_type": "code",
     "collapsed": false,
     "input": [
      "trk2 = pd.crosstab(trk.year, trk.age2, margins=True)\n",
      "trk2['perc_below_30'] = 100.0 * trk2['18-29'] / trk2['All']\n",
      "trk2.head(2)"
     ],
     "language": "python",
     "metadata": {},
     "outputs": [
      {
       "html": [
        "<div style=\"max-height:1000px;max-width:1500px;overflow:auto;\">\n",
        "<table border=\"1\" class=\"dataframe\">\n",
        "  <thead>\n",
        "    <tr style=\"text-align: right;\">\n",
        "      <th>age2</th>\n",
        "      <th>18-29</th>\n",
        "      <th>30-49</th>\n",
        "      <th>50-64</th>\n",
        "      <th>65+</th>\n",
        "      <th>DK\\Refused</th>\n",
        "      <th>All</th>\n",
        "      <th>perc_below_30</th>\n",
        "    </tr>\n",
        "    <tr>\n",
        "      <th>year</th>\n",
        "      <th></th>\n",
        "      <th></th>\n",
        "      <th></th>\n",
        "      <th></th>\n",
        "      <th></th>\n",
        "      <th></th>\n",
        "      <th></th>\n",
        "    </tr>\n",
        "  </thead>\n",
        "  <tbody>\n",
        "    <tr>\n",
        "      <th>1994</th>\n",
        "      <td> 30</td>\n",
        "      <td>  96</td>\n",
        "      <td> 36</td>\n",
        "      <td> 65</td>\n",
        "      <td> 19</td>\n",
        "      <td> 246</td>\n",
        "      <td> 12.195122</td>\n",
        "    </tr>\n",
        "    <tr>\n",
        "      <th>1995</th>\n",
        "      <td> 48</td>\n",
        "      <td> 169</td>\n",
        "      <td> 95</td>\n",
        "      <td> 97</td>\n",
        "      <td> 12</td>\n",
        "      <td> 421</td>\n",
        "      <td> 11.401425</td>\n",
        "    </tr>\n",
        "  </tbody>\n",
        "</table>\n",
        "</div>"
       ],
       "metadata": {},
       "output_type": "pyout",
       "prompt_number": 14,
       "text": [
        "age2  18-29  30-49  50-64  65+  DK\\Refused  All  perc_below_30\n",
        "year                                                          \n",
        "1994     30     96     36   65          19  246      12.195122\n",
        "1995     48    169     95   97          12  421      11.401425"
       ]
      }
     ],
     "prompt_number": 14
    },
    {
     "cell_type": "code",
     "collapsed": false,
     "input": [
      "trk3 = pd.crosstab(trk.year, trk.usr, margins=True)\n",
      "trk3['perc_urban'] = 100.0 * trk3['Urban '] / trk3['All']\n",
      "trk3.head(2)"
     ],
     "language": "python",
     "metadata": {},
     "outputs": [
      {
       "html": [
        "<div style=\"max-height:1000px;max-width:1500px;overflow:auto;\">\n",
        "<table border=\"1\" class=\"dataframe\">\n",
        "  <thead>\n",
        "    <tr style=\"text-align: right;\">\n",
        "      <th>usr</th>\n",
        "      <th>Rural </th>\n",
        "      <th>Suburban </th>\n",
        "      <th>Urban </th>\n",
        "      <th>All</th>\n",
        "      <th>perc_urban</th>\n",
        "    </tr>\n",
        "    <tr>\n",
        "      <th>year</th>\n",
        "      <th></th>\n",
        "      <th></th>\n",
        "      <th></th>\n",
        "      <th></th>\n",
        "      <th></th>\n",
        "    </tr>\n",
        "  </thead>\n",
        "  <tbody>\n",
        "    <tr>\n",
        "      <th>1996</th>\n",
        "      <td>   5</td>\n",
        "      <td>  26</td>\n",
        "      <td>   5</td>\n",
        "      <td>  429</td>\n",
        "      <td>  1.165501</td>\n",
        "    </tr>\n",
        "    <tr>\n",
        "      <th>2000</th>\n",
        "      <td> 172</td>\n",
        "      <td> 501</td>\n",
        "      <td> 196</td>\n",
        "      <td> 1090</td>\n",
        "      <td> 17.981651</td>\n",
        "    </tr>\n",
        "  </tbody>\n",
        "</table>\n",
        "</div>"
       ],
       "metadata": {},
       "output_type": "pyout",
       "prompt_number": 15,
       "text": [
        "usr   Rural   Suburban   Urban    All  perc_urban\n",
        "year                                             \n",
        "1996       5         26       5   429    1.165501\n",
        "2000     172        501     196  1090   17.981651"
       ]
      }
     ],
     "prompt_number": 15
    },
    {
     "cell_type": "markdown",
     "metadata": {},
     "source": [
      "The data for USR seems to be null for this group for years earlier than 2000, so for now remove those years."
     ]
    },
    {
     "cell_type": "code",
     "collapsed": false,
     "input": [
      "trk4 = trk2.merge(trk3, how='inner', left_index=True, right_index=True)\n",
      "trk4 = trk4[['perc_below_30','perc_urban']]\n",
      "trk4 = trk4[trk4.index != 1996]\n",
      "trk4 = trk4[trk4.index != 'All']\n",
      "trk4.head(2)"
     ],
     "language": "python",
     "metadata": {},
     "outputs": [
      {
       "html": [
        "<div style=\"max-height:1000px;max-width:1500px;overflow:auto;\">\n",
        "<table border=\"1\" class=\"dataframe\">\n",
        "  <thead>\n",
        "    <tr style=\"text-align: right;\">\n",
        "      <th></th>\n",
        "      <th>perc_below_30</th>\n",
        "      <th>perc_urban</th>\n",
        "    </tr>\n",
        "    <tr>\n",
        "      <th>year</th>\n",
        "      <th></th>\n",
        "      <th></th>\n",
        "    </tr>\n",
        "  </thead>\n",
        "  <tbody>\n",
        "    <tr>\n",
        "      <th>2000</th>\n",
        "      <td> 10.366972</td>\n",
        "      <td> 17.981651</td>\n",
        "    </tr>\n",
        "    <tr>\n",
        "      <th>2001</th>\n",
        "      <td>  9.148666</td>\n",
        "      <td> 17.916137</td>\n",
        "    </tr>\n",
        "  </tbody>\n",
        "</table>\n",
        "</div>"
       ],
       "metadata": {},
       "output_type": "pyout",
       "prompt_number": 16,
       "text": [
        "      perc_below_30  perc_urban\n",
        "year                           \n",
        "2000      10.366972   17.981651\n",
        "2001       9.148666   17.916137"
       ]
      }
     ],
     "prompt_number": 16
    },
    {
     "cell_type": "markdown",
     "metadata": {},
     "source": [
      "Plot this cohort on x-y plot with x the % below 30 and y the % that live in urban areas."
     ]
    },
    {
     "cell_type": "code",
     "collapsed": false,
     "input": [
      "figsize(2,2)\n",
      "plot(trk4.perc_below_30, trk4.perc_urban)\n",
      "xlabel('% younger than 30')\n",
      "ylabel('% urban')\n",
      "title('Republican women earning at least $75k a year')"
     ],
     "language": "python",
     "metadata": {},
     "outputs": [
      {
       "metadata": {},
       "output_type": "pyout",
       "prompt_number": 17,
       "text": [
        "<matplotlib.text.Text at 0x65ecdb0>"
       ]
      },
      {
       "metadata": {},
       "output_type": "display_data",
       "png": "[encoded data removed]",
       "text": [
        "<matplotlib.figure.Figure at 0x6601250>"
       ]
      }
     ],
     "prompt_number": 17
    },
    {
     "cell_type": "markdown",
     "metadata": {},
     "source": [
      "The line crosses itself many times so it isn't easy to read."
     ]
    },
    {
     "cell_type": "markdown",
     "metadata": {},
     "source": [
      "Add arrows so we can see the direction of time."
     ]
    },
    {
     "cell_type": "code",
     "collapsed": false,
     "input": [
      "x = np.array(trk4.perc_below_30.values)\n",
      "y = np.array(trk4.perc_urban.values)\n",
      "figsize(6,6)\n",
      "quiver(x[:-1], y[:-1], x[1:]-x[:-1], y[1:]-y[:-1], scale_units='xy', angles='xy', scale=1)\n",
      "xlabel('% younger than 30')\n",
      "ylabel('% urban')\n",
      "title('Republican women earning at least $75k a year')"
     ],
     "language": "python",
     "metadata": {},
     "outputs": [
      {
       "metadata": {},
       "output_type": "pyout",
       "prompt_number": 18,
       "text": [
        "<matplotlib.text.Text at 0x6b8fe10>"
       ]
      },
      {
       "metadata": {},
       "output_type": "display_data",
       "png": "[encoded data removed]",
       "text": [
        "<matplotlib.figure.Figure at 0x65d2c30>"
       ]
      }
     ],
     "prompt_number": 18
    },
    {
     "cell_type": "markdown",
     "metadata": {},
     "source": [
      "Using this plot, it is hard to see a clear trend.  Perhaps the cohort is growing younger and more urban."
     ]
    },
    {
     "cell_type": "markdown",
     "metadata": {},
     "source": [
      "Changing the range of the axes helps make it clear that the changes here are not large."
     ]
    },
    {
     "cell_type": "code",
     "collapsed": false,
     "input": [
      "x = np.array(trk4.perc_below_30.values)\n",
      "y = np.array(trk4.perc_urban.values)\n",
      "figsize(4,4)\n",
      "quiver(x[:-1], y[:-1], x[1:]-x[:-1], y[1:]-y[:-1], scale_units='xy', angles='xy', scale=1)\n",
      "xlabel('% younger than 30')\n",
      "ylabel('% urban')\n",
      "title('Republican women earning at least $75k a year')\n",
      "plt.xlim(0,100)\n",
      "plt.ylim(0,100)"
     ],
     "language": "python",
     "metadata": {},
     "outputs": [
      {
       "metadata": {},
       "output_type": "pyout",
       "prompt_number": 19,
       "text": [
        "(0, 100)"
       ]
      },
      {
       "metadata": {},
       "output_type": "display_data",
       "png": "[encoded data removed]",
       "text": [
        "<matplotlib.figure.Figure at 0x6b95e70>"
       ]
      }
     ],
     "prompt_number": 19
    },
    {
     "cell_type": "markdown",
     "metadata": {},
     "source": [
      "###Use weights"
     ]
    },
    {
     "cell_type": "markdown",
     "metadata": {},
     "source": [
      "So far we haven't taken weights into account.  We don't really know the trends without that information."
     ]
    },
    {
     "cell_type": "code",
     "collapsed": false,
     "input": [
      "trk5 = trk.copy()\n",
      "trk5.head(2)"
     ],
     "language": "python",
     "metadata": {},
     "outputs": [
      {
       "html": [
        "<div style=\"max-height:1000px;max-width:1500px;overflow:auto;\">\n",
        "<table border=\"1\" class=\"dataframe\">\n",
        "  <thead>\n",
        "    <tr style=\"text-align: right;\">\n",
        "      <th></th>\n",
        "      <th>id</th>\n",
        "      <th>weight</th>\n",
        "      <th>year</th>\n",
        "      <th>age2</th>\n",
        "      <th>usr</th>\n",
        "    </tr>\n",
        "  </thead>\n",
        "  <tbody>\n",
        "    <tr>\n",
        "      <th>10063 </th>\n",
        "      <td> 51988</td>\n",
        "      <td> 0.521003</td>\n",
        "      <td> 1994</td>\n",
        "      <td>   65+</td>\n",
        "      <td> NaN</td>\n",
        "    </tr>\n",
        "    <tr>\n",
        "      <th>140465</th>\n",
        "      <td> 52089</td>\n",
        "      <td> 1.218775</td>\n",
        "      <td> 1994</td>\n",
        "      <td> 18-29</td>\n",
        "      <td> NaN</td>\n",
        "    </tr>\n",
        "  </tbody>\n",
        "</table>\n",
        "</div>"
       ],
       "metadata": {},
       "output_type": "pyout",
       "prompt_number": 20,
       "text": [
        "           id    weight  year   age2  usr\n",
        "10063   51988  0.521003  1994    65+  NaN\n",
        "140465  52089  1.218775  1994  18-29  NaN"
       ]
      }
     ],
     "prompt_number": 20
    },
    {
     "cell_type": "markdown",
     "metadata": {},
     "source": [
      "This is an educated guess for how to use the weights to make valid percentages in this case.  We already limited all records to our cohort (republican women earning more than $75k).  For these rows, we add a column called *below_30* which will receive a copy of the row's weight if the person is younger than 30 and 0 otherwise.  We do the equivalent for *urban*."
     ]
    },
    {
     "cell_type": "code",
     "collapsed": false,
     "input": [
      "trk5['below_30'] = trk5.age2=='18-29'\n",
      "trk5['below_30'] = trk5.below_30.astype(int)\n",
      "trk5['below_30'] = trk5.below_30 * trk5.weight\n",
      "trk5['urban'] = trk5.usr=='Urban '\n",
      "trk5['urban'] = trk5.urban.astype(int)\n",
      "trk5['urban'] = trk5.urban * trk5.weight\n",
      "trk5.head(2)"
     ],
     "language": "python",
     "metadata": {},
     "outputs": [
      {
       "html": [
        "<div style=\"max-height:1000px;max-width:1500px;overflow:auto;\">\n",
        "<table border=\"1\" class=\"dataframe\">\n",
        "  <thead>\n",
        "    <tr style=\"text-align: right;\">\n",
        "      <th></th>\n",
        "      <th>id</th>\n",
        "      <th>weight</th>\n",
        "      <th>year</th>\n",
        "      <th>age2</th>\n",
        "      <th>usr</th>\n",
        "      <th>below_30</th>\n",
        "      <th>urban</th>\n",
        "    </tr>\n",
        "  </thead>\n",
        "  <tbody>\n",
        "    <tr>\n",
        "      <th>10063 </th>\n",
        "      <td> 51988</td>\n",
        "      <td> 0.521003</td>\n",
        "      <td> 1994</td>\n",
        "      <td>   65+</td>\n",
        "      <td> NaN</td>\n",
        "      <td> 0.000000</td>\n",
        "      <td> 0</td>\n",
        "    </tr>\n",
        "    <tr>\n",
        "      <th>140465</th>\n",
        "      <td> 52089</td>\n",
        "      <td> 1.218775</td>\n",
        "      <td> 1994</td>\n",
        "      <td> 18-29</td>\n",
        "      <td> NaN</td>\n",
        "      <td> 1.218775</td>\n",
        "      <td> 0</td>\n",
        "    </tr>\n",
        "  </tbody>\n",
        "</table>\n",
        "</div>"
       ],
       "metadata": {},
       "output_type": "pyout",
       "prompt_number": 22,
       "text": [
        "           id    weight  year   age2  usr  below_30  urban\n",
        "10063   51988  0.521003  1994    65+  NaN  0.000000      0\n",
        "140465  52089  1.218775  1994  18-29  NaN  1.218775      0"
       ]
      }
     ],
     "prompt_number": 22
    },
    {
     "cell_type": "code",
     "collapsed": false,
     "input": [
      "figsize(6,2)\n",
      "trk5[trk.usr.notnull()].year.hist(bins=len(list(set(trk5.year.values))))\n",
      "title('years with USR present')"
     ],
     "language": "python",
     "metadata": {},
     "outputs": [
      {
       "metadata": {},
       "output_type": "pyout",
       "prompt_number": 177,
       "text": [
        "<matplotlib.text.Text at 0xbdccef0>"
       ]
      },
      {
       "metadata": {},
       "output_type": "display_data",
       "png": "[encoded data removed]",
       "text": [
        "<matplotlib.figure.Figure at 0xb89ff10>"
       ]
      }
     ],
     "prompt_number": 177
    },
    {
     "cell_type": "markdown",
     "metadata": {},
     "source": [
      "Next, *perc_below_30* is calculated for each year as the sum of all *below_30* values that year divided by the sum of all weights that year (times 100).  And again we do the equivalent for *perc_urban*."
     ]
    },
    {
     "cell_type": "code",
     "collapsed": false,
     "input": [
      "trk6 = trk5.groupby(['year'])\n",
      "trk7 = pd.DataFrame({'perc_below_30':100.0 * trk6.below_30.agg(np.sum) / trk6.weight.agg(np.sum)})\n",
      "trk7.head()\n",
      "trk7['perc_urban'] = 100.0 * trk6.urban.agg(np.sum) / trk6.weight.agg(np.sum)\n",
      "#print trk7.perc_urban\n",
      "trk7 = trk7[trk7.index > 1999]"
     ],
     "language": "python",
     "metadata": {},
     "outputs": [],
     "prompt_number": 26
    },
    {
     "cell_type": "code",
     "collapsed": false,
     "input": [
      "x = np.array(trk7.perc_below_30.values)\n",
      "y = np.array(trk7.perc_urban.values)\n",
      "figsize(6,6)\n",
      "quiver(x[:-1], y[:-1], x[1:]-x[:-1], y[1:]-y[:-1], scale_units='xy', angles='xy', scale=1)\n",
      "xlabel('% younger than 30')\n",
      "ylabel('% urban')\n",
      "title('Republican women earning at least $75k a year')"
     ],
     "language": "python",
     "metadata": {},
     "outputs": [
      {
       "metadata": {},
       "output_type": "pyout",
       "prompt_number": 27,
       "text": [
        "<matplotlib.text.Text at 0x7786cf0>"
       ]
      },
      {
       "metadata": {},
       "output_type": "display_data",
       "png": "[encoded data removed]",
       "text": [
        "<matplotlib.figure.Figure at 0x7575330>"
       ]
      }
     ],
     "prompt_number": 27
    },
    {
     "cell_type": "markdown",
     "metadata": {},
     "source": [
      "Now with the weighted results it is even more difficult to see a trend.  The changes are small and may be explained by normal fluctuations within the party year-by-year and the challenges of phone polls."
     ]
    },
    {
     "cell_type": "code",
     "collapsed": false,
     "input": [],
     "language": "python",
     "metadata": {},
     "outputs": []
    }
   ],
   "metadata": {}
  }
 ]
}